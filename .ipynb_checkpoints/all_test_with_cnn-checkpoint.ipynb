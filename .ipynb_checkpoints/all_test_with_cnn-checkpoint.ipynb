{
 "cells": [
  {
   "cell_type": "code",
   "execution_count": 129,
   "metadata": {},
   "outputs": [],
   "source": [
    "import pandas as pd\n",
    "import matplotlib.pyplot as plt\n",
    "\n",
    "import tensorflow as tf\n",
    "\n",
    "from tensorflow.keras import datasets, layers, models\n",
    "from tensorflow.keras.layers import Embedding\n",
    "from tensorflow.keras.utils import to_categorical\n",
    "import matplotlib.pyplot as plt\n",
    "from sklearn.model_selection import train_test_split\n",
    "import numpy as np"
   ]
  },
  {
   "cell_type": "code",
   "execution_count": 33,
   "metadata": {},
   "outputs": [],
   "source": [
    "def get_data(name, file):\n",
    "    data = open(file, \"r\")\n",
    "    data_log = []\n",
    "    \n",
    "    for line in data:\n",
    "        if len(line) > 1000:  # cir을 갖는 line\n",
    "            data_log.append(line)\n",
    "            \n",
    "    print(\"len(data_log): \", len(data_log))\n",
    "    \n",
    "    processed_data = []\n",
    "    \n",
    "    for i in data_log:\n",
    "        if any(c.isalpha() for c in i):\n",
    "        # \"RSMPL(01)\" 문자열의 위치 찾기\n",
    "            index = i.find(\"RSMPL\")\n",
    "            # 해당 위치가 유효한 경우\n",
    "            if index != -1:\n",
    "                # \"RSMPL(01)\"까지의 문자열 제거\n",
    "                i = i[index + len(\"RSMPL\")+4:]\n",
    "                processed_data.append(i)\n",
    "            else:\n",
    "                # \"RSMPL(01)\" 문자열이 없는 경우, 원본 데이터 추가\n",
    "                processed_data.append(i)\n",
    "        else:\n",
    "            # 알파벳이 없는 경우, 원본 데이터 추가\n",
    "            processed_data.append(i)\n",
    "        \n",
    "    data_log = processed_data\n",
    "    raw_data = []\n",
    "    for i in range(len(data_log)):\n",
    "        data_sample = [int(x) for x in data_log[i].strip().split(\",\") if x]\n",
    "        raw_data.append(data_sample)\n",
    "        \n",
    "    count = 0\n",
    "    for i in range(len(raw_data)):\n",
    "        if len(raw_data[i]) > 1016:\n",
    "            count += 1\n",
    "    print(\"not 1016: \",count)\n",
    "    if count != 0:\n",
    "        for i in range(len(raw_data)):\n",
    "            if len(raw_data[i]) > 1016:\n",
    "                raw_data[i] = raw_data[i][1016:]\n",
    "    \n",
    "    count = 0\n",
    "    for i in range(len(raw_data)):\n",
    "        if len(raw_data[i]) != 1016:\n",
    "            count += 1\n",
    "    print(\"after: \",count)\n",
    "    \n",
    "    raw_data = pd.DataFrame(raw_data)\n",
    "    \n",
    "    abs_normalized_data = raw_data.abs()\n",
    "    abs_normalized_data = abs_normalized_data.apply(lambda x: (x - x.min()) / (x.max() - x.min()), axis=1)\n",
    "\n",
    "    \n",
    "    abs_normalized_data.to_csv(name)\n",
    "    print(len(raw_data))"
   ]
  },
  {
   "cell_type": "code",
   "execution_count": 34,
   "metadata": {
    "scrolled": false
   },
   "outputs": [
    {
     "name": "stdout",
     "output_type": "stream",
     "text": [
      "len(data_log):  3076\n",
      "not 1016:  48\n",
      "after:  0\n",
      "3076\n"
     ]
    }
   ],
   "source": [
    "get_data(\"experiment_1/angle_90_distance_10cm.csv\", \"20240707-132727_DecaWaveAllAccum_a90d10.log\")"
   ]
  },
  {
   "cell_type": "code",
   "execution_count": 35,
   "metadata": {},
   "outputs": [
    {
     "name": "stdout",
     "output_type": "stream",
     "text": [
      "(3076, 1017)\n"
     ]
    }
   ],
   "source": [
    "a90d10 = pd.read_csv(\"experiment_1/angle_90_distance_10cm.csv\")\n",
    "print(a90d10.shape)"
   ]
  },
  {
   "cell_type": "code",
   "execution_count": 37,
   "metadata": {},
   "outputs": [
    {
     "name": "stdout",
     "output_type": "stream",
     "text": [
      "len(data_log):  2701\n",
      "not 1016:  539\n",
      "after:  0\n",
      "2701\n",
      "len(data_log):  3195\n",
      "not 1016:  32\n",
      "after:  0\n",
      "3195\n",
      "len(data_log):  3347\n",
      "not 1016:  27\n",
      "after:  0\n",
      "3347\n",
      "len(data_log):  2845\n",
      "not 1016:  26\n",
      "after:  0\n",
      "2845\n",
      "len(data_log):  2816\n",
      "not 1016:  31\n",
      "after:  0\n",
      "2816\n",
      "len(data_log):  2537\n",
      "not 1016:  37\n",
      "after:  0\n",
      "2537\n"
     ]
    }
   ],
   "source": [
    "get_data(\"experiment_1/angle_0_distance_10cm.csv\", \"20240705-175445_DecaWaveAllAccum.log\")\n",
    "get_data(\"experiment_1/angle_180_distance_10cm.csv\", \"20240707-135548_DecaWaveAllAccum_a180d10.log\")\n",
    "get_data(\"experiment_1/angle_0_distance_50cm.csv\", \"20240707-142526_DecaWaveAllAccum_a0d50.log\")\n",
    "get_data(\"experiment_1/angle_90_distance_50cm.csv\", \"20240707-145712_DecaWaveAllAccum_a90d50.log\")\n",
    "get_data(\"experiment_1/angle_180_distance_50cm.csv\", \"20240707-152344_DecaWaveAllAccum_a180d50.log\")\n",
    "get_data(\"experiment_1/angle_0_distance_100cm.csv\", \"20240707-155119_DecaWaveAllAccum_a0d100.log\")"
   ]
  },
  {
   "cell_type": "markdown",
   "metadata": {},
   "source": [
    "# data split"
   ]
  },
  {
   "cell_type": "code",
   "execution_count": 39,
   "metadata": {},
   "outputs": [
    {
     "name": "stdout",
     "output_type": "stream",
     "text": [
      "(3540, 1016)\n",
      "(2701, 1016)\n",
      "(3076, 1016)\n",
      "(3195, 1016)\n",
      "(3347, 1016)\n",
      "(2845, 1016)\n",
      "(2816, 1016)\n",
      "(2537, 1016)\n"
     ]
    }
   ],
   "source": [
    "empty = empty = pd.read_csv(\"experiment_1/empty.csv\", index_col=0)\n",
    "print(empty.shape)\n",
    "a0d10 = pd.read_csv(\"experiment_1/angle_0_distance_10cm.csv\", index_col=0)\n",
    "print(a0d10.shape)\n",
    "a90d10 = pd.read_csv(\"experiment_1/angle_90_distance_10cm.csv\", index_col=0)\n",
    "print(a90d10.shape)\n",
    "a180d10 = pd.read_csv(\"experiment_1/angle_180_distance_10cm.csv\", index_col=0)\n",
    "print(a180d10.shape)\n",
    "a0d50 = pd.read_csv(\"experiment_1/angle_0_distance_50cm.csv\", index_col=0)\n",
    "print(a0d50.shape)\n",
    "a90d50 = pd.read_csv(\"experiment_1/angle_90_distance_50cm.csv\", index_col=0)\n",
    "print(a90d50.shape)\n",
    "a180d50 = pd.read_csv(\"experiment_1/angle_180_distance_50cm.csv\", index_col=0)\n",
    "print(a180d50.shape)\n",
    "a0d100 = pd.read_csv(\"experiment_1/angle_0_distance_100cm.csv\", index_col=0)\n",
    "print(a0d100.shape)"
   ]
  },
  {
   "cell_type": "markdown",
   "metadata": {},
   "source": [
    "# empty상황과 거리가 10인 3가지 경우를 분류"
   ]
  },
  {
   "cell_type": "code",
   "execution_count": 47,
   "metadata": {},
   "outputs": [
    {
     "data": {
      "text/plain": [
       "12512"
      ]
     },
     "execution_count": 47,
     "metadata": {},
     "output_type": "execute_result"
    }
   ],
   "source": [
    "label = [0]*3540 + [1]*(2701+3076+3195)  # empty의 0과 나머지를 1로\n",
    "label = pd.DataFrame(label)\n",
    "len(label)"
   ]
  },
  {
   "cell_type": "code",
   "execution_count": 48,
   "metadata": {},
   "outputs": [
    {
     "data": {
      "text/plain": [
       "(12512, 1016)"
      ]
     },
     "execution_count": 48,
     "metadata": {},
     "output_type": "execute_result"
    }
   ],
   "source": [
    "train = pd.concat([empty, a0d10, a90d10, a180d10], ignore_index=True)\n",
    "train.shape"
   ]
  },
  {
   "cell_type": "code",
   "execution_count": 49,
   "metadata": {},
   "outputs": [],
   "source": [
    "X_train, X_test, Y_train, Y_test = train_test_split(train, label, test_size=0.2, random_state=42)\n",
    "print(X_train.shape, X_test.shape, Y_train.shape, Y_test.shape)"
   ]
  },
  {
   "cell_type": "code",
   "execution_count": 56,
   "metadata": {},
   "outputs": [
    {
     "name": "stdout",
     "output_type": "stream",
     "text": [
      "Model: \"sequential_2\"\n",
      "_________________________________________________________________\n",
      "Layer (type)                 Output Shape              Param #   \n",
      "=================================================================\n",
      "conv1d_4 (Conv1D)            (None, 1013, 10)          50        \n",
      "_________________________________________________________________\n",
      "conv1d_5 (Conv1D)            (None, 1009, 20)          1020      \n",
      "_________________________________________________________________\n",
      "max_pooling1d_2 (MaxPooling1 (None, 504, 20)           0         \n",
      "_________________________________________________________________\n",
      "flatten_2 (Flatten)          (None, 10080)             0         \n",
      "_________________________________________________________________\n",
      "dense_2 (Dense)              (None, 1)                 10081     \n",
      "=================================================================\n",
      "Total params: 11,151\n",
      "Trainable params: 11,151\n",
      "Non-trainable params: 0\n",
      "_________________________________________________________________\n"
     ]
    }
   ],
   "source": [
    "model = models.Sequential()\n",
    "model.add(layers.Conv1D(10, 4, activation='relu', input_shape=(1016,1)))\n",
    "model.add(layers.Conv1D(20, 5, activation='relu'))\n",
    "model.add(layers.MaxPool1D(2, 2))\n",
    "model.add(layers.Flatten())\n",
    "model.add(layers.Dense(1, activation='sigmoid')) # 이진 분류를 위해 sigmoid사용함\n",
    "model.summary()\n",
    "model.compile(optimizer='adam', loss='binary_crossentropy', metrics=['accuracy'])"
   ]
  },
  {
   "cell_type": "code",
   "execution_count": 57,
   "metadata": {},
   "outputs": [
    {
     "name": "stdout",
     "output_type": "stream",
     "text": [
      "(10009, 1016, 1)\n",
      "(2503, 1016, 1)\n"
     ]
    }
   ],
   "source": [
    "# 입력 데이터에 채널 차원 추가 (Conv1D를 위해)\n",
    "X_train = np.expand_dims(X_train, axis=-1) # 채널 차원 추가\n",
    "print(X_train.shape)\n",
    "X_test = np.expand_dims(X_test, axis=-1)\n",
    "print(X_test.shape)"
   ]
  },
  {
   "cell_type": "code",
   "execution_count": 58,
   "metadata": {
    "scrolled": true
   },
   "outputs": [
    {
     "name": "stdout",
     "output_type": "stream",
     "text": [
      "Epoch 1/30\n",
      "313/313 [==============================] - 4s 13ms/step - loss: 0.3599 - accuracy: 0.8447 - val_loss: 0.2164 - val_accuracy: 0.9229\n",
      "Epoch 2/30\n",
      "313/313 [==============================] - 4s 13ms/step - loss: 0.1992 - accuracy: 0.9239 - val_loss: 0.1668 - val_accuracy: 0.9293\n",
      "Epoch 3/30\n",
      "313/313 [==============================] - 4s 13ms/step - loss: 0.1554 - accuracy: 0.9346 - val_loss: 0.1576 - val_accuracy: 0.9333\n",
      "Epoch 4/30\n",
      "313/313 [==============================] - 4s 13ms/step - loss: 0.1221 - accuracy: 0.9513 - val_loss: 0.1227 - val_accuracy: 0.9505\n",
      "Epoch 5/30\n",
      "313/313 [==============================] - 4s 13ms/step - loss: 0.1023 - accuracy: 0.9599 - val_loss: 0.1284 - val_accuracy: 0.9521\n",
      "Epoch 6/30\n",
      "313/313 [==============================] - 4s 13ms/step - loss: 0.0834 - accuracy: 0.9687 - val_loss: 0.1115 - val_accuracy: 0.9573\n",
      "Epoch 7/30\n",
      "313/313 [==============================] - 4s 13ms/step - loss: 0.0736 - accuracy: 0.9739 - val_loss: 0.1187 - val_accuracy: 0.9620\n",
      "Epoch 8/30\n",
      "313/313 [==============================] - 4s 13ms/step - loss: 0.0632 - accuracy: 0.9793 - val_loss: 0.1229 - val_accuracy: 0.9608\n",
      "Epoch 9/30\n",
      "313/313 [==============================] - 4s 13ms/step - loss: 0.0586 - accuracy: 0.9804 - val_loss: 0.1300 - val_accuracy: 0.9624\n",
      "Epoch 10/30\n",
      "313/313 [==============================] - 4s 13ms/step - loss: 0.0558 - accuracy: 0.9827 - val_loss: 0.1148 - val_accuracy: 0.9612\n",
      "Epoch 11/30\n",
      "313/313 [==============================] - 4s 13ms/step - loss: 0.0463 - accuracy: 0.9852 - val_loss: 0.1192 - val_accuracy: 0.9640\n",
      "Epoch 12/30\n",
      "313/313 [==============================] - 4s 13ms/step - loss: 0.0444 - accuracy: 0.9866 - val_loss: 0.1214 - val_accuracy: 0.9632\n",
      "Epoch 13/30\n",
      "313/313 [==============================] - 4s 13ms/step - loss: 0.0381 - accuracy: 0.9894 - val_loss: 0.1297 - val_accuracy: 0.9668\n",
      "Epoch 14/30\n",
      "313/313 [==============================] - 4s 13ms/step - loss: 0.0369 - accuracy: 0.9906 - val_loss: 0.1392 - val_accuracy: 0.9684\n",
      "Epoch 15/30\n",
      "313/313 [==============================] - 4s 13ms/step - loss: 0.0344 - accuracy: 0.9910 - val_loss: 0.1372 - val_accuracy: 0.9644\n",
      "Epoch 16/30\n",
      "313/313 [==============================] - 4s 13ms/step - loss: 0.0316 - accuracy: 0.9910 - val_loss: 0.1364 - val_accuracy: 0.9676\n",
      "Epoch 17/30\n",
      "313/313 [==============================] - 4s 13ms/step - loss: 0.0312 - accuracy: 0.9910 - val_loss: 0.1422 - val_accuracy: 0.9656\n",
      "Epoch 18/30\n",
      "313/313 [==============================] - 4s 13ms/step - loss: 0.0293 - accuracy: 0.9910 - val_loss: 0.1540 - val_accuracy: 0.9652\n",
      "Epoch 19/30\n",
      "313/313 [==============================] - 4s 13ms/step - loss: 0.0288 - accuracy: 0.9918 - val_loss: 0.1477 - val_accuracy: 0.9636\n",
      "Epoch 20/30\n",
      "313/313 [==============================] - 4s 13ms/step - loss: 0.0250 - accuracy: 0.9942 - val_loss: 0.1602 - val_accuracy: 0.9716\n",
      "Epoch 21/30\n",
      "313/313 [==============================] - 4s 13ms/step - loss: 0.0223 - accuracy: 0.9947 - val_loss: 0.1571 - val_accuracy: 0.9676\n",
      "Epoch 22/30\n",
      "313/313 [==============================] - 4s 13ms/step - loss: 0.0244 - accuracy: 0.9932 - val_loss: 0.1749 - val_accuracy: 0.9732\n",
      "Epoch 23/30\n",
      "313/313 [==============================] - 4s 13ms/step - loss: 0.0227 - accuracy: 0.9940 - val_loss: 0.1607 - val_accuracy: 0.9676\n",
      "Epoch 24/30\n",
      "313/313 [==============================] - 4s 13ms/step - loss: 0.0206 - accuracy: 0.9948 - val_loss: 0.1931 - val_accuracy: 0.9700\n",
      "Epoch 25/30\n",
      "313/313 [==============================] - 4s 13ms/step - loss: 0.0182 - accuracy: 0.9950 - val_loss: 0.1967 - val_accuracy: 0.9600\n",
      "Epoch 26/30\n",
      "313/313 [==============================] - 4s 13ms/step - loss: 0.0216 - accuracy: 0.9944 - val_loss: 0.1989 - val_accuracy: 0.9708\n",
      "Epoch 27/30\n",
      "313/313 [==============================] - 4s 13ms/step - loss: 0.0220 - accuracy: 0.9935 - val_loss: 0.2477 - val_accuracy: 0.9700\n",
      "Epoch 28/30\n",
      "313/313 [==============================] - 4s 13ms/step - loss: 0.0170 - accuracy: 0.9960 - val_loss: 0.1770 - val_accuracy: 0.9692\n",
      "Epoch 29/30\n",
      "313/313 [==============================] - 4s 13ms/step - loss: 0.0156 - accuracy: 0.9961 - val_loss: 0.1933 - val_accuracy: 0.9724\n",
      "Epoch 30/30\n",
      "313/313 [==============================] - 4s 13ms/step - loss: 0.0141 - accuracy: 0.9964 - val_loss: 0.2020 - val_accuracy: 0.9704\n"
     ]
    }
   ],
   "source": [
    "history = model.fit(X_train, Y_train, epochs=30, validation_data=(X_test, Y_test))"
   ]
  },
  {
   "cell_type": "code",
   "execution_count": 59,
   "metadata": {},
   "outputs": [
    {
     "name": "stdout",
     "output_type": "stream",
     "text": [
      "79/79 - 0s - loss: 0.2020 - accuracy: 0.9704\n"
     ]
    },
    {
     "data": {
      "image/png": "[encoded data removed]",
      "text/plain": [
       "<Figure size 432x288 with 1 Axes>"
      ]
     },
     "metadata": {
      "needs_background": "light"
     },
     "output_type": "display_data"
    }
   ],
   "source": [
    "plt.plot(history.history['accuracy'], label='accuracy')\n",
    "plt.plot(history.history['val_accuracy'], label = 'val_accuracy')\n",
    "plt.xlabel('Epoch')\n",
    "plt.ylabel('Accuracy')\n",
    "plt.ylim([0.5, 1])\n",
    "plt.legend(loc='lower right')\n",
    "\n",
    "test_loss, test_acc = model.evaluate(X_test,  Y_test, verbose=2)"
   ]
  },
  {
   "cell_type": "markdown",
   "metadata": {},
   "source": [
    "# empty상황과 거리가 50인 3가지 경우를 분류"
   ]
  },
  {
   "cell_type": "code",
   "execution_count": 60,
   "metadata": {},
   "outputs": [
    {
     "data": {
      "text/plain": [
       "12548"
      ]
     },
     "execution_count": 60,
     "metadata": {},
     "output_type": "execute_result"
    }
   ],
   "source": [
    "label = [0]*3540 + [1]*(3347+2845+2816)  # empty의 0과 나머지를 1로\n",
    "label = pd.DataFrame(label)\n",
    "len(label)"
   ]
  },
  {
   "cell_type": "code",
   "execution_count": 61,
   "metadata": {},
   "outputs": [
    {
     "data": {
      "text/plain": [
       "(12548, 1016)"
      ]
     },
     "execution_count": 61,
     "metadata": {},
     "output_type": "execute_result"
    }
   ],
   "source": [
    "train = pd.concat([empty, a0d50, a90d50, a180d50], ignore_index=True)\n",
    "train.shape"
   ]
  },
  {
   "cell_type": "code",
   "execution_count": 62,
   "metadata": {},
   "outputs": [
    {
     "name": "stdout",
     "output_type": "stream",
     "text": [
      "(10038, 1016) (2510, 1016) (10038, 1) (2510, 1)\n"
     ]
    }
   ],
   "source": [
    "X_train, X_test, Y_train, Y_test = train_test_split(train, label, test_size=0.2, random_state=42)\n",
    "print(X_train.shape, X_test.shape, Y_train.shape, Y_test.shape)"
   ]
  },
  {
   "cell_type": "code",
   "execution_count": 65,
   "metadata": {},
   "outputs": [
    {
     "name": "stdout",
     "output_type": "stream",
     "text": [
      "(10038, 1016, 1)\n",
      "(2510, 1016, 1)\n"
     ]
    }
   ],
   "source": [
    "# 입력 데이터에 채널 차원 추가 (Conv1D를 위해)\n",
    "X_train = np.expand_dims(X_train, axis=-1) # 채널 차원 추가\n",
    "print(X_train.shape)\n",
    "X_test = np.expand_dims(X_test, axis=-1)\n",
    "print(X_test.shape)"
   ]
  },
  {
   "cell_type": "code",
   "execution_count": 66,
   "metadata": {},
   "outputs": [
    {
     "name": "stdout",
     "output_type": "stream",
     "text": [
      "Model: \"sequential_4\"\n",
      "_________________________________________________________________\n",
      "Layer (type)                 Output Shape              Param #   \n",
      "=================================================================\n",
      "conv1d_8 (Conv1D)            (None, 1013, 10)          50        \n",
      "_________________________________________________________________\n",
      "conv1d_9 (Conv1D)            (None, 1009, 20)          1020      \n",
      "_________________________________________________________________\n",
      "max_pooling1d_4 (MaxPooling1 (None, 504, 20)           0         \n",
      "_________________________________________________________________\n",
      "flatten_4 (Flatten)          (None, 10080)             0         \n",
      "_________________________________________________________________\n",
      "dense_4 (Dense)              (None, 1)                 10081     \n",
      "=================================================================\n",
      "Total params: 11,151\n",
      "Trainable params: 11,151\n",
      "Non-trainable params: 0\n",
      "_________________________________________________________________\n"
     ]
    }
   ],
   "source": [
    "model = models.Sequential()\n",
    "model.add(layers.Conv1D(10, 4, activation='relu', input_shape=(1016,1)))\n",
    "model.add(layers.Conv1D(20, 5, activation='relu'))\n",
    "model.add(layers.MaxPool1D(2, 2))\n",
    "model.add(layers.Flatten())\n",
    "model.add(layers.Dense(1, activation='sigmoid')) # 이진 분류를 위해 sigmoid사용함\n",
    "model.summary()\n",
    "model.compile(optimizer='adam', loss='binary_crossentropy', metrics=['accuracy'])"
   ]
  },
  {
   "cell_type": "code",
   "execution_count": 67,
   "metadata": {
    "scrolled": true
   },
   "outputs": [
    {
     "name": "stdout",
     "output_type": "stream",
     "text": [
      "Epoch 1/20\n",
      "314/314 [==============================] - 4s 13ms/step - loss: 0.1234 - accuracy: 0.9550 - val_loss: 0.0068 - val_accuracy: 0.9988\n",
      "Epoch 2/20\n",
      "314/314 [==============================] - 4s 13ms/step - loss: 0.0139 - accuracy: 0.9980 - val_loss: 0.0031 - val_accuracy: 0.9992\n",
      "Epoch 3/20\n",
      "314/314 [==============================] - 4s 13ms/step - loss: 0.0094 - accuracy: 0.9991 - val_loss: 0.0015 - val_accuracy: 0.9996\n",
      "Epoch 4/20\n",
      "314/314 [==============================] - 4s 13ms/step - loss: 0.0079 - accuracy: 0.9995 - val_loss: 0.0014 - val_accuracy: 1.0000\n",
      "Epoch 5/20\n",
      "314/314 [==============================] - 4s 13ms/step - loss: 0.0056 - accuracy: 0.9994 - val_loss: 6.9813e-04 - val_accuracy: 1.0000\n",
      "Epoch 6/20\n",
      "314/314 [==============================] - 4s 13ms/step - loss: 0.0042 - accuracy: 0.9996 - val_loss: 7.8448e-04 - val_accuracy: 1.0000\n",
      "Epoch 7/20\n",
      "314/314 [==============================] - 4s 13ms/step - loss: 0.0024 - accuracy: 0.9998 - val_loss: 3.5463e-04 - val_accuracy: 1.0000\n",
      "Epoch 8/20\n",
      "314/314 [==============================] - 4s 13ms/step - loss: 0.0033 - accuracy: 0.9995 - val_loss: 2.8173e-04 - val_accuracy: 1.0000\n",
      "Epoch 9/20\n",
      "314/314 [==============================] - 4s 13ms/step - loss: 0.0044 - accuracy: 0.9997 - val_loss: 3.5702e-04 - val_accuracy: 1.0000\n",
      "Epoch 10/20\n",
      "314/314 [==============================] - 4s 13ms/step - loss: 0.0016 - accuracy: 0.9997 - val_loss: 2.4748e-04 - val_accuracy: 1.0000\n",
      "Epoch 11/20\n",
      "314/314 [==============================] - 4s 13ms/step - loss: 0.0017 - accuracy: 0.9996 - val_loss: 1.9013e-04 - val_accuracy: 1.0000\n",
      "Epoch 12/20\n",
      "314/314 [==============================] - 4s 13ms/step - loss: 0.0020 - accuracy: 0.9997 - val_loss: 2.1080e-04 - val_accuracy: 1.0000\n",
      "Epoch 13/20\n",
      "314/314 [==============================] - 4s 13ms/step - loss: 0.0013 - accuracy: 0.9997 - val_loss: 2.2100e-04 - val_accuracy: 1.0000\n",
      "Epoch 14/20\n",
      "314/314 [==============================] - 4s 13ms/step - loss: 0.0020 - accuracy: 0.9998 - val_loss: 1.6704e-04 - val_accuracy: 1.0000\n",
      "Epoch 15/20\n",
      "314/314 [==============================] - 4s 13ms/step - loss: 2.1826e-04 - accuracy: 1.0000 - val_loss: 1.1097e-04 - val_accuracy: 1.0000\n",
      "Epoch 16/20\n",
      "314/314 [==============================] - 4s 13ms/step - loss: 1.4562e-04 - accuracy: 1.0000 - val_loss: 8.2440e-05 - val_accuracy: 1.0000\n",
      "Epoch 17/20\n",
      "314/314 [==============================] - 4s 13ms/step - loss: 1.2164e-04 - accuracy: 1.0000 - val_loss: 6.2264e-05 - val_accuracy: 1.0000\n",
      "Epoch 18/20\n",
      "314/314 [==============================] - 4s 13ms/step - loss: 1.1642e-04 - accuracy: 1.0000 - val_loss: 1.9224e-04 - val_accuracy: 1.0000\n",
      "Epoch 19/20\n",
      "314/314 [==============================] - 4s 13ms/step - loss: 8.3284e-05 - accuracy: 1.0000 - val_loss: 5.0748e-05 - val_accuracy: 1.0000\n",
      "Epoch 20/20\n",
      "314/314 [==============================] - 4s 13ms/step - loss: 5.9465e-05 - accuracy: 1.0000 - val_loss: 3.2852e-05 - val_accuracy: 1.0000\n"
     ]
    }
   ],
   "source": [
    "history = model.fit(X_train, Y_train, epochs=20, validation_data=(X_test, Y_test))"
   ]
  },
  {
   "cell_type": "code",
   "execution_count": 68,
   "metadata": {
    "scrolled": true
   },
   "outputs": [
    {
     "name": "stdout",
     "output_type": "stream",
     "text": [
      "79/79 - 0s - loss: 3.2852e-05 - accuracy: 1.0000\n"
     ]
    },
    {
     "data": {
      "image/png": "[encoded data removed]",
      "text/plain": [
       "<Figure size 432x288 with 1 Axes>"
      ]
     },
     "metadata": {
      "needs_background": "light"
     },
     "output_type": "display_data"
    }
   ],
   "source": [
    "plt.plot(history.history['accuracy'], label='accuracy')\n",
    "plt.plot(history.history['val_accuracy'], label = 'val_accuracy')\n",
    "plt.xlabel('Epoch')\n",
    "plt.ylabel('Accuracy')\n",
    "plt.ylim([0.5, 1])\n",
    "plt.legend(loc='lower right')\n",
    "\n",
    "test_loss, test_acc = model.evaluate(X_test,  Y_test, verbose=2)"
   ]
  },
  {
   "cell_type": "markdown",
   "metadata": {},
   "source": [
    "# empty와 거리가 100인 상황"
   ]
  },
  {
   "cell_type": "code",
   "execution_count": 69,
   "metadata": {},
   "outputs": [
    {
     "data": {
      "text/plain": [
       "6077"
      ]
     },
     "execution_count": 69,
     "metadata": {},
     "output_type": "execute_result"
    }
   ],
   "source": [
    "label = [0]*3540 + [1]*(2537)  # empty의 0과 나머지를 1로\n",
    "label = pd.DataFrame(label)\n",
    "len(label)"
   ]
  },
  {
   "cell_type": "code",
   "execution_count": 71,
   "metadata": {},
   "outputs": [
    {
     "data": {
      "text/plain": [
       "(6077, 1016)"
      ]
     },
     "execution_count": 71,
     "metadata": {},
     "output_type": "execute_result"
    }
   ],
   "source": [
    "train = pd.concat([empty, a0d100], ignore_index=True)\n",
    "train.shape"
   ]
  },
  {
   "cell_type": "code",
   "execution_count": 72,
   "metadata": {},
   "outputs": [
    {
     "name": "stdout",
     "output_type": "stream",
     "text": [
      "(4861, 1016) (1216, 1016) (4861, 1) (1216, 1)\n"
     ]
    }
   ],
   "source": [
    "X_train, X_test, Y_train, Y_test = train_test_split(train, label, test_size=0.2, random_state=42)\n",
    "print(X_train.shape, X_test.shape, Y_train.shape, Y_test.shape)"
   ]
  },
  {
   "cell_type": "code",
   "execution_count": 73,
   "metadata": {},
   "outputs": [
    {
     "name": "stdout",
     "output_type": "stream",
     "text": [
      "(4861, 1016, 1)\n",
      "(1216, 1016, 1)\n"
     ]
    }
   ],
   "source": [
    "# 입력 데이터에 채널 차원 추가 (Conv1D를 위해)\n",
    "X_train = np.expand_dims(X_train, axis=-1) # 채널 차원 추가\n",
    "print(X_train.shape)\n",
    "X_test = np.expand_dims(X_test, axis=-1)\n",
    "print(X_test.shape)"
   ]
  },
  {
   "cell_type": "code",
   "execution_count": 74,
   "metadata": {},
   "outputs": [
    {
     "name": "stdout",
     "output_type": "stream",
     "text": [
      "Model: \"sequential_5\"\n",
      "_________________________________________________________________\n",
      "Layer (type)                 Output Shape              Param #   \n",
      "=================================================================\n",
      "conv1d_10 (Conv1D)           (None, 1013, 10)          50        \n",
      "_________________________________________________________________\n",
      "conv1d_11 (Conv1D)           (None, 1009, 20)          1020      \n",
      "_________________________________________________________________\n",
      "max_pooling1d_5 (MaxPooling1 (None, 504, 20)           0         \n",
      "_________________________________________________________________\n",
      "flatten_5 (Flatten)          (None, 10080)             0         \n",
      "_________________________________________________________________\n",
      "dense_5 (Dense)              (None, 1)                 10081     \n",
      "=================================================================\n",
      "Total params: 11,151\n",
      "Trainable params: 11,151\n",
      "Non-trainable params: 0\n",
      "_________________________________________________________________\n"
     ]
    }
   ],
   "source": [
    "model = models.Sequential()\n",
    "model.add(layers.Conv1D(10, 4, activation='relu', input_shape=(1016,1)))\n",
    "model.add(layers.Conv1D(20, 5, activation='relu'))\n",
    "model.add(layers.MaxPool1D(2, 2))\n",
    "model.add(layers.Flatten())\n",
    "model.add(layers.Dense(1, activation='sigmoid')) # 이진 분류를 위해 sigmoid사용함\n",
    "model.summary()\n",
    "model.compile(optimizer='adam', loss='binary_crossentropy', metrics=['accuracy'])"
   ]
  },
  {
   "cell_type": "code",
   "execution_count": 75,
   "metadata": {
    "scrolled": true
   },
   "outputs": [
    {
     "name": "stdout",
     "output_type": "stream",
     "text": [
      "Epoch 1/10\n",
      "152/152 [==============================] - 2s 13ms/step - loss: 0.1627 - accuracy: 0.9584 - val_loss: 0.0256 - val_accuracy: 0.9901\n",
      "Epoch 2/10\n",
      "152/152 [==============================] - 2s 13ms/step - loss: 0.0333 - accuracy: 0.9922 - val_loss: 0.0143 - val_accuracy: 0.9934\n",
      "Epoch 3/10\n",
      "152/152 [==============================] - 2s 13ms/step - loss: 0.0240 - accuracy: 0.9938 - val_loss: 0.0111 - val_accuracy: 0.9959\n",
      "Epoch 4/10\n",
      "152/152 [==============================] - 2s 13ms/step - loss: 0.0213 - accuracy: 0.9961 - val_loss: 0.0215 - val_accuracy: 0.9942\n",
      "Epoch 5/10\n",
      "152/152 [==============================] - 2s 13ms/step - loss: 0.0201 - accuracy: 0.9965 - val_loss: 0.0162 - val_accuracy: 0.9934\n",
      "Epoch 6/10\n",
      "152/152 [==============================] - 2s 13ms/step - loss: 0.0129 - accuracy: 0.9953 - val_loss: 0.0072 - val_accuracy: 0.9951\n",
      "Epoch 7/10\n",
      "152/152 [==============================] - 2s 13ms/step - loss: 0.0180 - accuracy: 0.9965 - val_loss: 0.0308 - val_accuracy: 0.9901\n",
      "Epoch 8/10\n",
      "152/152 [==============================] - 2s 13ms/step - loss: 0.0114 - accuracy: 0.9963 - val_loss: 0.0111 - val_accuracy: 0.9975\n",
      "Epoch 9/10\n",
      "152/152 [==============================] - 2s 13ms/step - loss: 0.0185 - accuracy: 0.9990 - val_loss: 0.0381 - val_accuracy: 0.9901\n",
      "Epoch 10/10\n",
      "152/152 [==============================] - 2s 13ms/step - loss: 0.0162 - accuracy: 0.9961 - val_loss: 0.0060 - val_accuracy: 0.9984\n"
     ]
    }
   ],
   "source": [
    "history = model.fit(X_train, Y_train, epochs=10, validation_data=(X_test, Y_test))"
   ]
  },
  {
   "cell_type": "code",
   "execution_count": 76,
   "metadata": {},
   "outputs": [
    {
     "name": "stdout",
     "output_type": "stream",
     "text": [
      "38/38 - 0s - loss: 0.0060 - accuracy: 0.9984\n"
     ]
    },
    {
     "data": {
      "image/png": "[encoded data removed]",
      "text/plain": [
       "<Figure size 432x288 with 1 Axes>"
      ]
     },
     "metadata": {
      "needs_background": "light"
     },
     "output_type": "display_data"
    }
   ],
   "source": [
    "plt.plot(history.history['accuracy'], label='accuracy')\n",
    "plt.plot(history.history['val_accuracy'], label = 'val_accuracy')\n",
    "plt.xlabel('Epoch')\n",
    "plt.ylabel('Accuracy')\n",
    "plt.ylim([0.5, 1])\n",
    "plt.legend(loc='lower right')\n",
    "\n",
    "test_loss, test_acc = model.evaluate(X_test,  Y_test, verbose=2)"
   ]
  },
  {
   "cell_type": "markdown",
   "metadata": {},
   "source": [
    "# 거리가 같을 때 0, 90, 180을 탐지할 수 있는가?"
   ]
  },
  {
   "cell_type": "code",
   "execution_count": 147,
   "metadata": {},
   "outputs": [
    {
     "data": {
      "text/plain": [
       "12512"
      ]
     },
     "execution_count": 147,
     "metadata": {},
     "output_type": "execute_result"
    }
   ],
   "source": [
    "label = [0]*3540 + [1]*2701 + [2]*3076 + [3]*3195  # empty의 0과 각도0을 1로, 90을 2로, 180을 3 이때 거리는 모두 10\n",
    "label = pd.DataFrame(label)\n",
    "len(label)"
   ]
  },
  {
   "cell_type": "code",
   "execution_count": 148,
   "metadata": {},
   "outputs": [
    {
     "data": {
      "text/plain": [
       "(12512, 1)"
      ]
     },
     "execution_count": 148,
     "metadata": {},
     "output_type": "execute_result"
    }
   ],
   "source": [
    "# label = tf.one_hot(label, 4)\n",
    "label = np.array(label)\n",
    "label.shape"
   ]
  },
  {
   "cell_type": "code",
   "execution_count": 149,
   "metadata": {},
   "outputs": [
    {
     "data": {
      "text/plain": [
       "(12512, 1016)"
      ]
     },
     "execution_count": 149,
     "metadata": {},
     "output_type": "execute_result"
    }
   ],
   "source": [
    "train = pd.concat([empty, a0d10, a90d10, a180d10], ignore_index=True)\n",
    "train.shape"
   ]
  },
  {
   "cell_type": "code",
   "execution_count": 150,
   "metadata": {},
   "outputs": [
    {
     "name": "stdout",
     "output_type": "stream",
     "text": [
      "(12512, 1016, 1)\n",
      "(12512, 1)\n"
     ]
    }
   ],
   "source": [
    "# 입력 데이터에 채널 차원 추가 (Conv1D를 위해)\n",
    "X_train = np.expand_dims(train, axis=-1) # 채널 차원 추가\n",
    "print(X_train.shape)\n",
    "# Y_train = np.expand_dims(label, axis=-1)\n",
    "print(label.shape)"
   ]
  },
  {
   "cell_type": "code",
   "execution_count": 151,
   "metadata": {},
   "outputs": [],
   "source": [
    "Y_train = to_categorical(label, num_classes=4)"
   ]
  },
  {
   "cell_type": "code",
   "execution_count": 152,
   "metadata": {},
   "outputs": [
    {
     "name": "stdout",
     "output_type": "stream",
     "text": [
      "Model: \"sequential_10\"\n",
      "_________________________________________________________________\n",
      "Layer (type)                 Output Shape              Param #   \n",
      "=================================================================\n",
      "conv1d_20 (Conv1D)           (None, 1013, 10)          50        \n",
      "_________________________________________________________________\n",
      "conv1d_21 (Conv1D)           (None, 1009, 20)          1020      \n",
      "_________________________________________________________________\n",
      "max_pooling1d_10 (MaxPooling (None, 504, 20)           0         \n",
      "_________________________________________________________________\n",
      "flatten_10 (Flatten)         (None, 10080)             0         \n",
      "_________________________________________________________________\n",
      "dense_10 (Dense)             (None, 4)                 40324     \n",
      "=================================================================\n",
      "Total params: 41,394\n",
      "Trainable params: 41,394\n",
      "Non-trainable params: 0\n",
      "_________________________________________________________________\n"
     ]
    }
   ],
   "source": [
    "model = models.Sequential()\n",
    "model.add(layers.Conv1D(10, 4, activation='relu', input_shape=(1016,1)))\n",
    "model.add(layers.Conv1D(20, 5, activation='relu'))\n",
    "model.add(layers.MaxPool1D(2, 2))\n",
    "model.add(layers.Flatten())\n",
    "model.add(layers.Dense(4, activation='softmax')) # 이진 분류를 위해 sigmoid사용함\n",
    "model.summary()\n",
    "model.compile(optimizer='adam', loss='categorical_crossentropy', metrics=['accuracy'])"
   ]
  },
  {
   "cell_type": "code",
   "execution_count": 153,
   "metadata": {},
   "outputs": [
    {
     "name": "stdout",
     "output_type": "stream",
     "text": [
      "Epoch 1/20\n",
      "391/391 [==============================] - 5s 11ms/step - loss: 0.6286 - accuracy: 0.7921\n",
      "Epoch 2/20\n",
      "391/391 [==============================] - 4s 11ms/step - loss: 0.3872 - accuracy: 0.8899\n",
      "Epoch 3/20\n",
      "391/391 [==============================] - 4s 11ms/step - loss: 0.2892 - accuracy: 0.9130\n",
      "Epoch 4/20\n",
      "391/391 [==============================] - 4s 11ms/step - loss: 0.2284 - accuracy: 0.9285\n",
      "Epoch 5/20\n",
      "391/391 [==============================] - 4s 11ms/step - loss: 0.1881 - accuracy: 0.9422\n",
      "Epoch 6/20\n",
      "391/391 [==============================] - 4s 11ms/step - loss: 0.1520 - accuracy: 0.9554\n",
      "Epoch 7/20\n",
      "391/391 [==============================] - 4s 11ms/step - loss: 0.1226 - accuracy: 0.9640\n",
      "Epoch 8/20\n",
      "391/391 [==============================] - 4s 11ms/step - loss: 0.1121 - accuracy: 0.9678\n",
      "Epoch 9/20\n",
      "391/391 [==============================] - 4s 11ms/step - loss: 0.0947 - accuracy: 0.9726\n",
      "Epoch 10/20\n",
      "391/391 [==============================] - 4s 11ms/step - loss: 0.0808 - accuracy: 0.9783\n",
      "Epoch 11/20\n",
      "391/391 [==============================] - 4s 11ms/step - loss: 0.0682 - accuracy: 0.9833\n",
      "Epoch 12/20\n",
      "391/391 [==============================] - 4s 11ms/step - loss: 0.0623 - accuracy: 0.9835\n",
      "Epoch 13/20\n",
      "391/391 [==============================] - 4s 11ms/step - loss: 0.0589 - accuracy: 0.9843\n",
      "Epoch 14/20\n",
      "391/391 [==============================] - 4s 11ms/step - loss: 0.0527 - accuracy: 0.9855\n",
      "Epoch 15/20\n",
      "391/391 [==============================] - 4s 11ms/step - loss: 0.0516 - accuracy: 0.9863\n",
      "Epoch 16/20\n",
      "391/391 [==============================] - 4s 11ms/step - loss: 0.0403 - accuracy: 0.9904\n",
      "Epoch 17/20\n",
      "391/391 [==============================] - 4s 11ms/step - loss: 0.0359 - accuracy: 0.9910\n",
      "Epoch 18/20\n",
      "391/391 [==============================] - 4s 11ms/step - loss: 0.0373 - accuracy: 0.9902\n",
      "Epoch 19/20\n",
      "391/391 [==============================] - 4s 11ms/step - loss: 0.0400 - accuracy: 0.9894\n",
      "Epoch 20/20\n",
      "391/391 [==============================] - 4s 11ms/step - loss: 0.0275 - accuracy: 0.9930\n"
     ]
    }
   ],
   "source": [
    "history = model.fit(X_train, Y_train, epochs=20)"
   ]
  },
  {
   "cell_type": "code",
   "execution_count": null,
   "metadata": {},
   "outputs": [],
   "source": []
  },
  {
   "cell_type": "code",
   "execution_count": null,
   "metadata": {},
   "outputs": [],
   "source": []
  }
 ],
 "metadata": {
  "kernelspec": {
   "display_name": "Python 3",
   "language": "python",
   "name": "python3"
  },
  "language_info": {
   "codemirror_mode": {
    "name": "ipython",
    "version": 3
   },
   "file_extension": ".py",
   "mimetype": "text/x-python",
   "name": "python",
   "nbconvert_exporter": "python",
   "pygments_lexer": "ipython3",
   "version": "3.8.5"
  }
 },
 "nbformat": 4,
 "nbformat_minor": 4
}
