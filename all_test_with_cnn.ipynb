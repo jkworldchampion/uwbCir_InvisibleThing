{
 "cells": [
  {
   "cell_type": "code",
   "execution_count": 2,
   "metadata": {},
   "outputs": [],
   "source": [
    "import pandas as pd\n",
    "import matplotlib.pyplot as plt\n",
    "\n",
    "import tensorflow as tf\n",
    "\n",
    "from tensorflow.keras import datasets, layers, models\n",
    "from tensorflow.keras.layers import Embedding\n",
    "from tensorflow.keras.utils import to_categorical\n",
    "import matplotlib.pyplot as plt\n",
    "from sklearn.model_selection import train_test_split\n",
    "import numpy as np"
   ]
  },
  {
   "cell_type": "code",
   "execution_count": 2,
   "metadata": {},
   "outputs": [],
   "source": [
    "def get_data(name, file):\n",
    "    data = open(file, \"r\")\n",
    "    data_log = []\n",
    "    \n",
    "    for line in data:\n",
    "        if len(line) > 1000:  # cir을 갖는 line\n",
    "            data_log.append(line)\n",
    "            \n",
    "    print(\"len(data_log): \", len(data_log))\n",
    "    \n",
    "    processed_data = []\n",
    "    \n",
    "    for i in data_log:\n",
    "        if any(c.isalpha() for c in i):\n",
    "        # \"RSMPL(01)\" 문자열의 위치 찾기\n",
    "            index = i.find(\"RSMPL\")\n",
    "            # 해당 위치가 유효한 경우\n",
    "            if index != -1:\n",
    "                # \"RSMPL(01)\"까지의 문자열 제거\n",
    "                i = i[index + len(\"RSMPL\")+4:]\n",
    "                processed_data.append(i)\n",
    "            else:\n",
    "                # \"RSMPL(01)\" 문자열이 없는 경우, 원본 데이터 추가\n",
    "                processed_data.append(i)\n",
    "        else:\n",
    "            # 알파벳이 없는 경우, 원본 데이터 추가\n",
    "            processed_data.append(i)\n",
    "        \n",
    "    data_log = processed_data\n",
    "    raw_data = []\n",
    "    for i in range(len(data_log)):\n",
    "        data_sample = [int(x) for x in data_log[i].strip().split(\",\") if x]\n",
    "        raw_data.append(data_sample)\n",
    "        \n",
    "    count = 0\n",
    "    for i in range(len(raw_data)):\n",
    "        if len(raw_data[i]) > 1016:\n",
    "            count += 1\n",
    "    print(\"not 1016: \",count)\n",
    "    if count != 0:\n",
    "        for i in range(len(raw_data)):\n",
    "            if len(raw_data[i]) > 1016:\n",
    "                raw_data[i] = raw_data[i][1016:]\n",
    "    \n",
    "    count = 0\n",
    "    for i in range(len(raw_data)):\n",
    "        if len(raw_data[i]) != 1016:\n",
    "            count += 1\n",
    "    print(\"after: \",count)\n",
    "    \n",
    "    raw_data = pd.DataFrame(raw_data)\n",
    "    \n",
    "    abs_normalized_data = raw_data.abs()\n",
    "    abs_normalized_data = abs_normalized_data.apply(lambda x: (x - x.min()) / (x.max() - x.min()), axis=1)\n",
    "\n",
    "    \n",
    "    abs_normalized_data.to_csv(name)\n",
    "    print(len(raw_data))"
   ]
  },
  {
   "cell_type": "code",
   "execution_count": 34,
   "metadata": {
    "scrolled": false
   },
   "outputs": [
    {
     "name": "stdout",
     "output_type": "stream",
     "text": [
      "len(data_log):  3076\n",
      "not 1016:  48\n",
      "after:  0\n",
      "3076\n"
     ]
    }
   ],
   "source": [
    "get_data(\"experiment_1/angle_90_distance_10cm.csv\", \"20240707-132727_DecaWaveAllAccum_a90d10.log\")"
   ]
  },
  {
   "cell_type": "code",
   "execution_count": 35,
   "metadata": {},
   "outputs": [
    {
     "name": "stdout",
     "output_type": "stream",
     "text": [
      "(3076, 1017)\n"
     ]
    }
   ],
   "source": [
    "a90d10 = pd.read_csv(\"experiment_1/angle_90_distance_10cm.csv\")\n",
    "print(a90d10.shape)"
   ]
  },
  {
   "cell_type": "code",
   "execution_count": 37,
   "metadata": {},
   "outputs": [
    {
     "name": "stdout",
     "output_type": "stream",
     "text": [
      "len(data_log):  2701\n",
      "not 1016:  539\n",
      "after:  0\n",
      "2701\n",
      "len(data_log):  3195\n",
      "not 1016:  32\n",
      "after:  0\n",
      "3195\n",
      "len(data_log):  3347\n",
      "not 1016:  27\n",
      "after:  0\n",
      "3347\n",
      "len(data_log):  2845\n",
      "not 1016:  26\n",
      "after:  0\n",
      "2845\n",
      "len(data_log):  2816\n",
      "not 1016:  31\n",
      "after:  0\n",
      "2816\n",
      "len(data_log):  2537\n",
      "not 1016:  37\n",
      "after:  0\n",
      "2537\n"
     ]
    }
   ],
   "source": [
    "get_data(\"experiment_1/angle_0_distance_10cm.csv\", \"20240705-175445_DecaWaveAllAccum.log\")\n",
    "get_data(\"experiment_1/angle_180_distance_10cm.csv\", \"20240707-135548_DecaWaveAllAccum_a180d10.log\")\n",
    "get_data(\"experiment_1/angle_0_distance_50cm.csv\", \"20240707-142526_DecaWaveAllAccum_a0d50.log\")\n",
    "get_data(\"experiment_1/angle_90_distance_50cm.csv\", \"20240707-145712_DecaWaveAllAccum_a90d50.log\")\n",
    "get_data(\"experiment_1/angle_180_distance_50cm.csv\", \"20240707-152344_DecaWaveAllAccum_a180d50.log\")\n",
    "get_data(\"experiment_1/angle_0_distance_100cm.csv\", \"20240707-155119_DecaWaveAllAccum_a0d100.log\")"
   ]
  },
  {
   "cell_type": "markdown",
   "metadata": {},
   "source": [
    "# data split"
   ]
  },
  {
   "cell_type": "code",
   "execution_count": 3,
   "metadata": {},
   "outputs": [
    {
     "name": "stdout",
     "output_type": "stream",
     "text": [
      "(3540, 1016)\n",
      "(2701, 1016)\n",
      "(3076, 1016)\n",
      "(3195, 1016)\n",
      "(3347, 1016)\n",
      "(2845, 1016)\n",
      "(2816, 1016)\n",
      "(2537, 1016)\n"
     ]
    }
   ],
   "source": [
    "empty = empty = pd.read_csv(\"experiment_1/empty.csv\", index_col=0)\n",
    "print(empty.shape)\n",
    "a0d10 = pd.read_csv(\"experiment_1/angle_0_distance_10cm.csv\", index_col=0)\n",
    "print(a0d10.shape)\n",
    "a90d10 = pd.read_csv(\"experiment_1/angle_90_distance_10cm.csv\", index_col=0)\n",
    "print(a90d10.shape)\n",
    "a180d10 = pd.read_csv(\"experiment_1/angle_180_distance_10cm.csv\", index_col=0)\n",
    "print(a180d10.shape)\n",
    "a0d50 = pd.read_csv(\"experiment_1/angle_0_distance_50cm.csv\", index_col=0)\n",
    "print(a0d50.shape)\n",
    "a90d50 = pd.read_csv(\"experiment_1/angle_90_distance_50cm.csv\", index_col=0)\n",
    "print(a90d50.shape)\n",
    "a180d50 = pd.read_csv(\"experiment_1/angle_180_distance_50cm.csv\", index_col=0)\n",
    "print(a180d50.shape)\n",
    "a0d100 = pd.read_csv(\"experiment_1/angle_0_distance_100cm.csv\", index_col=0)\n",
    "print(a0d100.shape)"
   ]
  },
  {
   "cell_type": "markdown",
   "metadata": {},
   "source": [
    "# empty상황과 거리가 10인 3가지 경우를 분류"
   ]
  },
  {
   "cell_type": "code",
   "execution_count": 11,
   "metadata": {},
   "outputs": [
    {
     "data": {
      "text/plain": [
       "12512"
      ]
     },
     "execution_count": 11,
     "metadata": {},
     "output_type": "execute_result"
    }
   ],
   "source": [
    "label = [0]*3540 + [1]*(2701+3076+3195)  # empty의 0과 나머지를 1로\n",
    "label = pd.DataFrame(label)\n",
    "len(label)"
   ]
  },
  {
   "cell_type": "code",
   "execution_count": 12,
   "metadata": {},
   "outputs": [
    {
     "data": {
      "text/plain": [
       "(12512, 1016)"
      ]
     },
     "execution_count": 12,
     "metadata": {},
     "output_type": "execute_result"
    }
   ],
   "source": [
    "train = pd.concat([empty, a0d10, a90d10, a180d10], ignore_index=True)\n",
    "train.shape"
   ]
  },
  {
   "cell_type": "code",
   "execution_count": 13,
   "metadata": {},
   "outputs": [
    {
     "name": "stdout",
     "output_type": "stream",
     "text": [
      "(10009, 1016) (2503, 1016) (10009, 1) (2503, 1)\n"
     ]
    }
   ],
   "source": [
    "X_train, X_test, Y_train, Y_test = train_test_split(train, label, test_size=0.2, random_state=42)\n",
    "print(X_train.shape, X_test.shape, Y_train.shape, Y_test.shape)"
   ]
  },
  {
   "cell_type": "code",
   "execution_count": 14,
   "metadata": {},
   "outputs": [
    {
     "name": "stdout",
     "output_type": "stream",
     "text": [
      "Model: \"sequential_1\"\n",
      "_________________________________________________________________\n",
      "Layer (type)                 Output Shape              Param #   \n",
      "=================================================================\n",
      "conv1d_2 (Conv1D)            (None, 1013, 10)          50        \n",
      "_________________________________________________________________\n",
      "conv1d_3 (Conv1D)            (None, 1009, 20)          1020      \n",
      "_________________________________________________________________\n",
      "max_pooling1d_1 (MaxPooling1 (None, 504, 20)           0         \n",
      "_________________________________________________________________\n",
      "flatten_1 (Flatten)          (None, 10080)             0         \n",
      "_________________________________________________________________\n",
      "dense_1 (Dense)              (None, 1)                 10081     \n",
      "=================================================================\n",
      "Total params: 11,151\n",
      "Trainable params: 11,151\n",
      "Non-trainable params: 0\n",
      "_________________________________________________________________\n"
     ]
    }
   ],
   "source": [
    "model = models.Sequential()\n",
    "model.add(layers.Conv1D(10, 4, activation='relu', input_shape=(1016,1)))\n",
    "model.add(layers.Conv1D(20, 5, activation='relu'))\n",
    "model.add(layers.MaxPool1D(2, 2))\n",
    "model.add(layers.Flatten())\n",
    "model.add(layers.Dense(1, activation='sigmoid')) # 이진 분류를 위해 sigmoid사용함\n",
    "model.summary()\n",
    "model.compile(optimizer='adam', loss='binary_crossentropy', metrics=['accuracy'])"
   ]
  },
  {
   "cell_type": "code",
   "execution_count": 15,
   "metadata": {},
   "outputs": [
    {
     "name": "stdout",
     "output_type": "stream",
     "text": [
      "(10009, 1016, 1)\n",
      "(2503, 1016, 1)\n"
     ]
    }
   ],
   "source": [
    "# 입력 데이터에 채널 차원 추가 (Conv1D를 위해)\n",
    "X_train = np.expand_dims(X_train, axis=-1) # 채널 차원 추가\n",
    "print(X_train.shape)\n",
    "X_test = np.expand_dims(X_test, axis=-1)\n",
    "print(X_test.shape)"
   ]
  },
  {
   "cell_type": "code",
   "execution_count": 16,
   "metadata": {
    "scrolled": true
   },
   "outputs": [
    {
     "name": "stdout",
     "output_type": "stream",
     "text": [
      "Epoch 1/20\n",
      "313/313 [==============================] - 4s 14ms/step - loss: 0.3949 - accuracy: 0.8451 - val_loss: 0.2558 - val_accuracy: 0.9229\n",
      "Epoch 2/20\n",
      "313/313 [==============================] - 4s 13ms/step - loss: 0.2197 - accuracy: 0.9194 - val_loss: 0.1896 - val_accuracy: 0.9189\n",
      "Epoch 3/20\n",
      "313/313 [==============================] - 4s 14ms/step - loss: 0.1790 - accuracy: 0.9268 - val_loss: 0.1883 - val_accuracy: 0.9237\n",
      "Epoch 4/20\n",
      "313/313 [==============================] - 4s 13ms/step - loss: 0.1454 - accuracy: 0.9379 - val_loss: 0.1754 - val_accuracy: 0.9309\n",
      "Epoch 5/20\n",
      "313/313 [==============================] - 4s 13ms/step - loss: 0.1271 - accuracy: 0.9478 - val_loss: 0.1255 - val_accuracy: 0.9445\n",
      "Epoch 6/20\n",
      "313/313 [==============================] - 4s 13ms/step - loss: 0.1136 - accuracy: 0.9546 - val_loss: 0.1182 - val_accuracy: 0.9493\n",
      "Epoch 7/20\n",
      "313/313 [==============================] - 4s 13ms/step - loss: 0.0971 - accuracy: 0.9619 - val_loss: 0.1131 - val_accuracy: 0.9553\n",
      "Epoch 8/20\n",
      "313/313 [==============================] - 4s 13ms/step - loss: 0.0964 - accuracy: 0.9621 - val_loss: 0.1150 - val_accuracy: 0.9533\n",
      "Epoch 9/20\n",
      "313/313 [==============================] - 4s 13ms/step - loss: 0.0801 - accuracy: 0.9711 - val_loss: 0.1191 - val_accuracy: 0.9565\n",
      "Epoch 10/20\n",
      "313/313 [==============================] - 4s 13ms/step - loss: 0.0715 - accuracy: 0.9752 - val_loss: 0.1116 - val_accuracy: 0.9592\n",
      "Epoch 11/20\n",
      "313/313 [==============================] - 4s 13ms/step - loss: 0.0659 - accuracy: 0.9772 - val_loss: 0.1242 - val_accuracy: 0.9565\n",
      "Epoch 12/20\n",
      "313/313 [==============================] - 4s 13ms/step - loss: 0.0647 - accuracy: 0.9779 - val_loss: 0.1218 - val_accuracy: 0.9616\n",
      "Epoch 13/20\n",
      "313/313 [==============================] - 4s 13ms/step - loss: 0.0556 - accuracy: 0.9811 - val_loss: 0.1283 - val_accuracy: 0.9608\n",
      "Epoch 14/20\n",
      "313/313 [==============================] - 4s 13ms/step - loss: 0.0485 - accuracy: 0.9850 - val_loss: 0.1210 - val_accuracy: 0.9636\n",
      "Epoch 15/20\n",
      "313/313 [==============================] - 4s 13ms/step - loss: 0.0483 - accuracy: 0.9846 - val_loss: 0.1715 - val_accuracy: 0.9624\n",
      "Epoch 16/20\n",
      "313/313 [==============================] - 4s 13ms/step - loss: 0.0450 - accuracy: 0.9857 - val_loss: 0.1270 - val_accuracy: 0.9664\n",
      "Epoch 17/20\n",
      "313/313 [==============================] - 4s 13ms/step - loss: 0.0401 - accuracy: 0.9882 - val_loss: 0.1307 - val_accuracy: 0.9664\n",
      "Epoch 18/20\n",
      "313/313 [==============================] - 4s 13ms/step - loss: 0.0343 - accuracy: 0.9903 - val_loss: 0.1387 - val_accuracy: 0.9664\n",
      "Epoch 19/20\n",
      "313/313 [==============================] - 4s 13ms/step - loss: 0.0327 - accuracy: 0.9912 - val_loss: 0.1582 - val_accuracy: 0.9652\n",
      "Epoch 20/20\n",
      "313/313 [==============================] - 4s 13ms/step - loss: 0.0326 - accuracy: 0.9914 - val_loss: 0.1456 - val_accuracy: 0.9668\n"
     ]
    }
   ],
   "source": [
    "history = model.fit(X_train, Y_train, epochs=20, validation_data=(X_test, Y_test))"
   ]
  },
  {
   "cell_type": "code",
   "execution_count": 17,
   "metadata": {},
   "outputs": [
    {
     "name": "stdout",
     "output_type": "stream",
     "text": [
      "79/79 - 0s - loss: 0.1456 - accuracy: 0.9668\n"
     ]
    },
    {
     "data": {
      "image/png": "[encoded data removed]",
      "text/plain": [
       "<Figure size 432x288 with 1 Axes>"
      ]
     },
     "metadata": {
      "needs_background": "light"
     },
     "output_type": "display_data"
    }
   ],
   "source": [
    "plt.plot(history.history['accuracy'], label='accuracy')\n",
    "plt.plot(history.history['val_accuracy'], label = 'val_accuracy')\n",
    "plt.xlabel('Epoch')\n",
    "plt.ylabel('Accuracy')\n",
    "plt.ylim([0.5, 1])\n",
    "plt.legend(loc='lower right')\n",
    "\n",
    "test_loss, test_acc = model.evaluate(X_test,  Y_test, verbose=2)"
   ]
  },
  {
   "cell_type": "markdown",
   "metadata": {},
   "source": [
    "# empty상황과 거리가 50인 3가지 경우를 분류"
   ]
  },
  {
   "cell_type": "code",
   "execution_count": 18,
   "metadata": {},
   "outputs": [
    {
     "data": {
      "text/plain": [
       "12548"
      ]
     },
     "execution_count": 18,
     "metadata": {},
     "output_type": "execute_result"
    }
   ],
   "source": [
    "label = [0]*3540 + [1]*(3347+2845+2816)  # empty의 0과 나머지를 1로\n",
    "label = pd.DataFrame(label)\n",
    "len(label)"
   ]
  },
  {
   "cell_type": "code",
   "execution_count": 19,
   "metadata": {},
   "outputs": [
    {
     "data": {
      "text/plain": [
       "(12548, 1016)"
      ]
     },
     "execution_count": 19,
     "metadata": {},
     "output_type": "execute_result"
    }
   ],
   "source": [
    "train = pd.concat([empty, a0d50, a90d50, a180d50], ignore_index=True)\n",
    "train.shape"
   ]
  },
  {
   "cell_type": "code",
   "execution_count": 20,
   "metadata": {},
   "outputs": [
    {
     "name": "stdout",
     "output_type": "stream",
     "text": [
      "(10038, 1016) (2510, 1016) (10038, 1) (2510, 1)\n"
     ]
    }
   ],
   "source": [
    "X_train, X_test, Y_train, Y_test = train_test_split(train, label, test_size=0.2, random_state=42)\n",
    "print(X_train.shape, X_test.shape, Y_train.shape, Y_test.shape)"
   ]
  },
  {
   "cell_type": "code",
   "execution_count": 21,
   "metadata": {},
   "outputs": [
    {
     "name": "stdout",
     "output_type": "stream",
     "text": [
      "(10038, 1016, 1)\n",
      "(2510, 1016, 1)\n"
     ]
    }
   ],
   "source": [
    "# 입력 데이터에 채널 차원 추가 (Conv1D를 위해)\n",
    "X_train = np.expand_dims(X_train, axis=-1) # 채널 차원 추가\n",
    "print(X_train.shape)\n",
    "X_test = np.expand_dims(X_test, axis=-1)\n",
    "print(X_test.shape)"
   ]
  },
  {
   "cell_type": "code",
   "execution_count": 22,
   "metadata": {},
   "outputs": [
    {
     "name": "stdout",
     "output_type": "stream",
     "text": [
      "Model: \"sequential_2\"\n",
      "_________________________________________________________________\n",
      "Layer (type)                 Output Shape              Param #   \n",
      "=================================================================\n",
      "conv1d_4 (Conv1D)            (None, 1013, 10)          50        \n",
      "_________________________________________________________________\n",
      "conv1d_5 (Conv1D)            (None, 1009, 20)          1020      \n",
      "_________________________________________________________________\n",
      "max_pooling1d_2 (MaxPooling1 (None, 504, 20)           0         \n",
      "_________________________________________________________________\n",
      "flatten_2 (Flatten)          (None, 10080)             0         \n",
      "_________________________________________________________________\n",
      "dense_2 (Dense)              (None, 1)                 10081     \n",
      "=================================================================\n",
      "Total params: 11,151\n",
      "Trainable params: 11,151\n",
      "Non-trainable params: 0\n",
      "_________________________________________________________________\n"
     ]
    }
   ],
   "source": [
    "model = models.Sequential()\n",
    "model.add(layers.Conv1D(10, 4, activation='relu', input_shape=(1016,1)))\n",
    "model.add(layers.Conv1D(20, 5, activation='relu'))\n",
    "model.add(layers.MaxPool1D(2, 2))\n",
    "model.add(layers.Flatten())\n",
    "model.add(layers.Dense(1, activation='sigmoid')) # 이진 분류를 위해 sigmoid사용함\n",
    "model.summary()\n",
    "model.compile(optimizer='adam', loss='binary_crossentropy', metrics=['accuracy'])"
   ]
  },
  {
   "cell_type": "code",
   "execution_count": 23,
   "metadata": {
    "scrolled": true
   },
   "outputs": [
    {
     "name": "stdout",
     "output_type": "stream",
     "text": [
      "Epoch 1/20\n",
      "314/314 [==============================] - 5s 14ms/step - loss: 0.1357 - accuracy: 0.9501 - val_loss: 0.0082 - val_accuracy: 0.9988\n",
      "Epoch 2/20\n",
      "314/314 [==============================] - 4s 13ms/step - loss: 0.0136 - accuracy: 0.9984 - val_loss: 0.0043 - val_accuracy: 0.9992\n",
      "Epoch 3/20\n",
      "314/314 [==============================] - 4s 14ms/step - loss: 0.0094 - accuracy: 0.9988 - val_loss: 0.0029 - val_accuracy: 0.9996\n",
      "Epoch 4/20\n",
      "314/314 [==============================] - 4s 13ms/step - loss: 0.0077 - accuracy: 0.9993 - val_loss: 0.0018 - val_accuracy: 0.9996\n",
      "Epoch 5/20\n",
      "314/314 [==============================] - 4s 13ms/step - loss: 0.0066 - accuracy: 0.9996 - val_loss: 9.0660e-04 - val_accuracy: 1.0000\n",
      "Epoch 6/20\n",
      "314/314 [==============================] - 4s 13ms/step - loss: 0.0052 - accuracy: 0.9991 - val_loss: 7.3781e-04 - val_accuracy: 1.0000\n",
      "Epoch 7/20\n",
      "314/314 [==============================] - 4s 13ms/step - loss: 0.0044 - accuracy: 0.9996 - val_loss: 7.0675e-04 - val_accuracy: 1.0000\n",
      "Epoch 8/20\n",
      "314/314 [==============================] - 4s 13ms/step - loss: 0.0037 - accuracy: 0.9993 - val_loss: 4.0648e-04 - val_accuracy: 1.0000\n",
      "Epoch 9/20\n",
      "314/314 [==============================] - 4s 13ms/step - loss: 0.0058 - accuracy: 0.9998 - val_loss: 0.0013 - val_accuracy: 0.9996\n",
      "Epoch 10/20\n",
      "314/314 [==============================] - 4s 13ms/step - loss: 0.0017 - accuracy: 0.9997 - val_loss: 2.6694e-04 - val_accuracy: 1.0000\n",
      "Epoch 11/20\n",
      "314/314 [==============================] - 4s 13ms/step - loss: 0.0018 - accuracy: 0.9998 - val_loss: 1.8992e-04 - val_accuracy: 1.0000\n",
      "Epoch 12/20\n",
      "314/314 [==============================] - 4s 13ms/step - loss: 0.0021 - accuracy: 0.9997 - val_loss: 1.4459e-04 - val_accuracy: 1.0000\n",
      "Epoch 13/20\n",
      "314/314 [==============================] - 4s 14ms/step - loss: 0.0016 - accuracy: 0.9997 - val_loss: 2.0350e-04 - val_accuracy: 1.0000\n",
      "Epoch 14/20\n",
      "314/314 [==============================] - 4s 14ms/step - loss: 0.0033 - accuracy: 0.9997 - val_loss: 2.1882e-04 - val_accuracy: 1.0000\n",
      "Epoch 15/20\n",
      "314/314 [==============================] - 4s 13ms/step - loss: 3.1207e-04 - accuracy: 1.0000 - val_loss: 5.9639e-04 - val_accuracy: 1.0000\n",
      "Epoch 16/20\n",
      "314/314 [==============================] - 4s 13ms/step - loss: 2.6980e-04 - accuracy: 0.9999 - val_loss: 6.3433e-05 - val_accuracy: 1.0000\n",
      "Epoch 17/20\n",
      "314/314 [==============================] - 4s 13ms/step - loss: 1.0955e-04 - accuracy: 1.0000 - val_loss: 4.7493e-05 - val_accuracy: 1.0000\n",
      "Epoch 18/20\n",
      "314/314 [==============================] - 4s 14ms/step - loss: 7.4954e-05 - accuracy: 1.0000 - val_loss: 6.9508e-05 - val_accuracy: 1.0000\n",
      "Epoch 19/20\n",
      "314/314 [==============================] - 4s 13ms/step - loss: 7.8367e-05 - accuracy: 1.0000 - val_loss: 4.6256e-05 - val_accuracy: 1.0000\n",
      "Epoch 20/20\n",
      "314/314 [==============================] - 4s 14ms/step - loss: 6.3789e-05 - accuracy: 1.0000 - val_loss: 2.7645e-05 - val_accuracy: 1.0000\n"
     ]
    }
   ],
   "source": [
    "history = model.fit(X_train, Y_train, epochs=20, validation_data=(X_test, Y_test))"
   ]
  },
  {
   "cell_type": "code",
   "execution_count": 24,
   "metadata": {
    "scrolled": true
   },
   "outputs": [
    {
     "name": "stdout",
     "output_type": "stream",
     "text": [
      "79/79 - 0s - loss: 2.7645e-05 - accuracy: 1.0000\n"
     ]
    },
    {
     "data": {
      "image/png": "[encoded data removed]",
      "text/plain": [
       "<Figure size 432x288 with 1 Axes>"
      ]
     },
     "metadata": {
      "needs_background": "light"
     },
     "output_type": "display_data"
    }
   ],
   "source": [
    "plt.plot(history.history['accuracy'], label='accuracy')\n",
    "plt.plot(history.history['val_accuracy'], label = 'val_accuracy')\n",
    "plt.xlabel('Epoch')\n",
    "plt.ylabel('Accuracy')\n",
    "plt.ylim([0.5, 1])\n",
    "plt.legend(loc='lower right')\n",
    "\n",
    "test_loss, test_acc = model.evaluate(X_test,  Y_test, verbose=2)"
   ]
  },
  {
   "cell_type": "markdown",
   "metadata": {},
   "source": [
    "# empty와 거리가 100인 상황"
   ]
  },
  {
   "cell_type": "code",
   "execution_count": 25,
   "metadata": {},
   "outputs": [
    {
     "data": {
      "text/plain": [
       "6077"
      ]
     },
     "execution_count": 25,
     "metadata": {},
     "output_type": "execute_result"
    }
   ],
   "source": [
    "label = [0]*3540 + [1]*(2537)  # empty의 0과 나머지를 1로\n",
    "label = pd.DataFrame(label)\n",
    "len(label)"
   ]
  },
  {
   "cell_type": "code",
   "execution_count": 26,
   "metadata": {},
   "outputs": [
    {
     "data": {
      "text/plain": [
       "(6077, 1016)"
      ]
     },
     "execution_count": 26,
     "metadata": {},
     "output_type": "execute_result"
    }
   ],
   "source": [
    "train = pd.concat([empty, a0d100], ignore_index=True)\n",
    "train.shape"
   ]
  },
  {
   "cell_type": "code",
   "execution_count": 27,
   "metadata": {},
   "outputs": [
    {
     "name": "stdout",
     "output_type": "stream",
     "text": [
      "(4861, 1016) (1216, 1016) (4861, 1) (1216, 1)\n"
     ]
    }
   ],
   "source": [
    "X_train, X_test, Y_train, Y_test = train_test_split(train, label, test_size=0.2, random_state=42)\n",
    "print(X_train.shape, X_test.shape, Y_train.shape, Y_test.shape)"
   ]
  },
  {
   "cell_type": "code",
   "execution_count": 28,
   "metadata": {},
   "outputs": [
    {
     "name": "stdout",
     "output_type": "stream",
     "text": [
      "(4861, 1016, 1)\n",
      "(1216, 1016, 1)\n"
     ]
    }
   ],
   "source": [
    "# 입력 데이터에 채널 차원 추가 (Conv1D를 위해)\n",
    "X_train = np.expand_dims(X_train, axis=-1) # 채널 차원 추가\n",
    "print(X_train.shape)\n",
    "X_test = np.expand_dims(X_test, axis=-1)\n",
    "print(X_test.shape)"
   ]
  },
  {
   "cell_type": "code",
   "execution_count": 29,
   "metadata": {},
   "outputs": [
    {
     "name": "stdout",
     "output_type": "stream",
     "text": [
      "Model: \"sequential_3\"\n",
      "_________________________________________________________________\n",
      "Layer (type)                 Output Shape              Param #   \n",
      "=================================================================\n",
      "conv1d_6 (Conv1D)            (None, 1013, 10)          50        \n",
      "_________________________________________________________________\n",
      "conv1d_7 (Conv1D)            (None, 1009, 20)          1020      \n",
      "_________________________________________________________________\n",
      "max_pooling1d_3 (MaxPooling1 (None, 504, 20)           0         \n",
      "_________________________________________________________________\n",
      "flatten_3 (Flatten)          (None, 10080)             0         \n",
      "_________________________________________________________________\n",
      "dense_3 (Dense)              (None, 1)                 10081     \n",
      "=================================================================\n",
      "Total params: 11,151\n",
      "Trainable params: 11,151\n",
      "Non-trainable params: 0\n",
      "_________________________________________________________________\n"
     ]
    }
   ],
   "source": [
    "model = models.Sequential()\n",
    "model.add(layers.Conv1D(10, 4, activation='relu', input_shape=(1016,1)))\n",
    "model.add(layers.Conv1D(20, 5, activation='relu'))\n",
    "model.add(layers.MaxPool1D(2, 2))\n",
    "model.add(layers.Flatten())\n",
    "model.add(layers.Dense(1, activation='sigmoid')) # 이진 분류를 위해 sigmoid사용함\n",
    "model.summary()\n",
    "model.compile(optimizer='adam', loss='binary_crossentropy', metrics=['accuracy'])"
   ]
  },
  {
   "cell_type": "code",
   "execution_count": 30,
   "metadata": {
    "scrolled": true
   },
   "outputs": [
    {
     "name": "stdout",
     "output_type": "stream",
     "text": [
      "Epoch 1/10\n",
      "152/152 [==============================] - 2s 14ms/step - loss: 0.1903 - accuracy: 0.9593 - val_loss: 0.0199 - val_accuracy: 0.9942\n",
      "Epoch 2/10\n",
      "152/152 [==============================] - 2s 14ms/step - loss: 0.0248 - accuracy: 0.9949 - val_loss: 0.0097 - val_accuracy: 0.9975\n",
      "Epoch 3/10\n",
      "152/152 [==============================] - 2s 14ms/step - loss: 0.0221 - accuracy: 0.9967 - val_loss: 0.0067 - val_accuracy: 0.9975\n",
      "Epoch 4/10\n",
      "152/152 [==============================] - 2s 14ms/step - loss: 0.0216 - accuracy: 0.9963 - val_loss: 0.0047 - val_accuracy: 1.0000\n",
      "Epoch 5/10\n",
      "152/152 [==============================] - 2s 13ms/step - loss: 0.0132 - accuracy: 0.9990 - val_loss: 0.0036 - val_accuracy: 1.0000\n",
      "Epoch 6/10\n",
      "152/152 [==============================] - 2s 13ms/step - loss: 0.0124 - accuracy: 0.9988 - val_loss: 0.0025 - val_accuracy: 1.0000\n",
      "Epoch 7/10\n",
      "152/152 [==============================] - 2s 13ms/step - loss: 0.0129 - accuracy: 0.9990 - val_loss: 0.0052 - val_accuracy: 0.9984\n",
      "Epoch 8/10\n",
      "152/152 [==============================] - 2s 13ms/step - loss: 0.0085 - accuracy: 0.9994 - val_loss: 0.0463 - val_accuracy: 0.9868\n",
      "Epoch 9/10\n",
      "152/152 [==============================] - 2s 13ms/step - loss: 0.0124 - accuracy: 0.9988 - val_loss: 0.0016 - val_accuracy: 1.0000\n",
      "Epoch 10/10\n",
      "152/152 [==============================] - 2s 13ms/step - loss: 0.0041 - accuracy: 0.9994 - val_loss: 0.0015 - val_accuracy: 1.0000\n"
     ]
    }
   ],
   "source": [
    "history = model.fit(X_train, Y_train, epochs=10, validation_data=(X_test, Y_test))"
   ]
  },
  {
   "cell_type": "code",
   "execution_count": 31,
   "metadata": {},
   "outputs": [
    {
     "name": "stdout",
     "output_type": "stream",
     "text": [
      "38/38 [==============================] - 0s 4ms/step - loss: 0.0015 - accuracy: 1.0000\n"
     ]
    },
    {
     "data": {
      "image/png": "[encoded data removed]",
      "text/plain": [
       "<Figure size 432x288 with 1 Axes>"
      ]
     },
     "metadata": {
      "needs_background": "light"
     },
     "output_type": "display_data"
    }
   ],
   "source": [
    "plt.plot(history.history['accuracy'], label='accuracy')\n",
    "plt.plot(history.history['val_accuracy'], label = 'val_accuracy')\n",
    "plt.xlabel('Epoch')\n",
    "plt.ylabel('Accuracy')\n",
    "plt.ylim([0.5, 1])\n",
    "plt.legend(loc='lower right')\n",
    "\n",
    "test_loss, test_acc = model.evaluate(X_test,  Y_test)"
   ]
  },
  {
   "cell_type": "markdown",
   "metadata": {},
   "source": [
    "# 거리가 같을 때 0, 90, 180을 탐지할 수 있는가?"
   ]
  },
  {
   "cell_type": "code",
   "execution_count": 32,
   "metadata": {},
   "outputs": [
    {
     "data": {
      "text/plain": [
       "12512"
      ]
     },
     "execution_count": 32,
     "metadata": {},
     "output_type": "execute_result"
    }
   ],
   "source": [
    "label = [0]*3540 + [1]*2701 + [2]*3076 + [3]*3195  # empty의 0과 각도0을 1로, 90을 2로, 180을 3 이때 거리는 모두 10\n",
    "label = pd.DataFrame(label)\n",
    "len(label)"
   ]
  },
  {
   "cell_type": "code",
   "execution_count": 33,
   "metadata": {},
   "outputs": [
    {
     "data": {
      "text/plain": [
       "(12512, 1)"
      ]
     },
     "execution_count": 33,
     "metadata": {},
     "output_type": "execute_result"
    }
   ],
   "source": [
    "# label = tf.one_hot(label, 4)\n",
    "label = np.array(label)\n",
    "label.shape"
   ]
  },
  {
   "cell_type": "code",
   "execution_count": 34,
   "metadata": {},
   "outputs": [
    {
     "data": {
      "text/plain": [
       "(12512, 1016)"
      ]
     },
     "execution_count": 34,
     "metadata": {},
     "output_type": "execute_result"
    }
   ],
   "source": [
    "train = pd.concat([empty, a0d10, a90d10, a180d10], ignore_index=True)\n",
    "train.shape"
   ]
  },
  {
   "cell_type": "code",
   "execution_count": 35,
   "metadata": {},
   "outputs": [
    {
     "name": "stdout",
     "output_type": "stream",
     "text": [
      "(12512, 1016, 1)\n",
      "(12512, 1)\n"
     ]
    }
   ],
   "source": [
    "# 입력 데이터에 채널 차원 추가 (Conv1D를 위해)\n",
    "X_train = np.expand_dims(train, axis=-1) # 채널 차원 추가\n",
    "print(X_train.shape)\n",
    "# Y_train = np.expand_dims(label, axis=-1)\n",
    "print(label.shape)"
   ]
  },
  {
   "cell_type": "code",
   "execution_count": 36,
   "metadata": {},
   "outputs": [],
   "source": [
    "Y_train = to_categorical(label, num_classes=4)"
   ]
  },
  {
   "cell_type": "code",
   "execution_count": 37,
   "metadata": {},
   "outputs": [
    {
     "name": "stdout",
     "output_type": "stream",
     "text": [
      "Model: \"sequential_4\"\n",
      "_________________________________________________________________\n",
      "Layer (type)                 Output Shape              Param #   \n",
      "=================================================================\n",
      "conv1d_8 (Conv1D)            (None, 1013, 10)          50        \n",
      "_________________________________________________________________\n",
      "conv1d_9 (Conv1D)            (None, 1009, 20)          1020      \n",
      "_________________________________________________________________\n",
      "max_pooling1d_4 (MaxPooling1 (None, 504, 20)           0         \n",
      "_________________________________________________________________\n",
      "flatten_4 (Flatten)          (None, 10080)             0         \n",
      "_________________________________________________________________\n",
      "dense_4 (Dense)              (None, 4)                 40324     \n",
      "=================================================================\n",
      "Total params: 41,394\n",
      "Trainable params: 41,394\n",
      "Non-trainable params: 0\n",
      "_________________________________________________________________\n"
     ]
    }
   ],
   "source": [
    "model = models.Sequential()\n",
    "model.add(layers.Conv1D(10, 4, activation='relu', input_shape=(1016,1)))\n",
    "model.add(layers.Conv1D(20, 5, activation='relu'))\n",
    "model.add(layers.MaxPool1D(2, 2))\n",
    "model.add(layers.Flatten())\n",
    "model.add(layers.Dense(4, activation='softmax')) # 이진 분류를 위해 sigmoid사용함\n",
    "model.summary()\n",
    "model.compile(optimizer='adam', loss='categorical_crossentropy', metrics=['accuracy'])"
   ]
  },
  {
   "cell_type": "code",
   "execution_count": 38,
   "metadata": {},
   "outputs": [
    {
     "name": "stdout",
     "output_type": "stream",
     "text": [
      "Epoch 1/20\n",
      "391/391 [==============================] - 5s 12ms/step - loss: 0.5882 - accuracy: 0.7937\n",
      "Epoch 2/20\n",
      "391/391 [==============================] - 5s 12ms/step - loss: 0.3999 - accuracy: 0.8940\n",
      "Epoch 3/20\n",
      "391/391 [==============================] - 5s 12ms/step - loss: 0.2972 - accuracy: 0.9185\n",
      "Epoch 4/20\n",
      "391/391 [==============================] - 4s 11ms/step - loss: 0.2131 - accuracy: 0.9418\n",
      "Epoch 5/20\n",
      "391/391 [==============================] - 5s 12ms/step - loss: 0.1592 - accuracy: 0.9551\n",
      "Epoch 6/20\n",
      "391/391 [==============================] - 5s 12ms/step - loss: 0.1326 - accuracy: 0.9612\n",
      "Epoch 7/20\n",
      "391/391 [==============================] - 5s 12ms/step - loss: 0.1019 - accuracy: 0.9718\n",
      "Epoch 8/20\n",
      "391/391 [==============================] - 5s 12ms/step - loss: 0.0813 - accuracy: 0.9780\n",
      "Epoch 9/20\n",
      "391/391 [==============================] - 5s 12ms/step - loss: 0.0761 - accuracy: 0.9804\n",
      "Epoch 10/20\n",
      "391/391 [==============================] - 5s 12ms/step - loss: 0.0611 - accuracy: 0.9831\n",
      "Epoch 11/20\n",
      "391/391 [==============================] - 5s 12ms/step - loss: 0.0583 - accuracy: 0.9851\n",
      "Epoch 12/20\n",
      "391/391 [==============================] - 5s 12ms/step - loss: 0.0464 - accuracy: 0.9882\n",
      "Epoch 13/20\n",
      "391/391 [==============================] - 5s 12ms/step - loss: 0.0410 - accuracy: 0.9887\n",
      "Epoch 14/20\n",
      "391/391 [==============================] - 5s 12ms/step - loss: 0.0391 - accuracy: 0.9906\n",
      "Epoch 15/20\n",
      "391/391 [==============================] - 5s 12ms/step - loss: 0.0418 - accuracy: 0.9884\n",
      "Epoch 16/20\n",
      "391/391 [==============================] - 5s 12ms/step - loss: 0.0319 - accuracy: 0.9930\n",
      "Epoch 17/20\n",
      "391/391 [==============================] - 5s 12ms/step - loss: 0.0294 - accuracy: 0.9927\n",
      "Epoch 18/20\n",
      "391/391 [==============================] - 5s 12ms/step - loss: 0.0225 - accuracy: 0.9948\n",
      "Epoch 19/20\n",
      "391/391 [==============================] - 5s 12ms/step - loss: 0.0213 - accuracy: 0.9950\n",
      "Epoch 20/20\n",
      "391/391 [==============================] - 5s 12ms/step - loss: 0.0210 - accuracy: 0.9947\n"
     ]
    }
   ],
   "source": [
    "history = model.fit(X_train, Y_train, epochs=20)"
   ]
  },
  {
   "cell_type": "code",
   "execution_count": null,
   "metadata": {},
   "outputs": [],
   "source": []
  },
  {
   "cell_type": "code",
   "execution_count": null,
   "metadata": {},
   "outputs": [],
   "source": []
  },
  {
   "cell_type": "markdown",
   "metadata": {},
   "source": [
    "# 새롭게 거리를 탐지할 수 있는지 학습시키기"
   ]
  },
  {
   "cell_type": "code",
   "execution_count": 4,
   "metadata": {},
   "outputs": [
    {
     "data": {
      "text/plain": [
       "8585"
      ]
     },
     "execution_count": 4,
     "metadata": {},
     "output_type": "execute_result"
    }
   ],
   "source": [
    "# 정확하기는 10, 50 ,100을 구분할 수 있는지 확인할 것임\n",
    "label = [0]*2701 + [1]*3347 + [2]*2537  # 각도0인 상태에서 10을 0으로, 50을 1로, 100을 2로\n",
    "label = pd.DataFrame(label)\n",
    "len(label)"
   ]
  },
  {
   "cell_type": "code",
   "execution_count": 5,
   "metadata": {},
   "outputs": [
    {
     "data": {
      "text/plain": [
       "(8585, 1016)"
      ]
     },
     "execution_count": 5,
     "metadata": {},
     "output_type": "execute_result"
    }
   ],
   "source": [
    "train = pd.concat([a0d10, a0d50, a0d100], ignore_index=True)\n",
    "train.shape"
   ]
  },
  {
   "cell_type": "code",
   "execution_count": 22,
   "metadata": {},
   "outputs": [
    {
     "name": "stdout",
     "output_type": "stream",
     "text": [
      "(6868, 1016) (1717, 1016) (6868, 1) (1717, 1)\n"
     ]
    }
   ],
   "source": [
    "X_train, X_test, Y_train, Y_test = train_test_split(train, label, test_size=0.2, random_state=42)\n",
    "print(X_train.shape, X_test.shape, Y_train.shape, Y_test.shape)"
   ]
  },
  {
   "cell_type": "code",
   "execution_count": 23,
   "metadata": {},
   "outputs": [
    {
     "name": "stdout",
     "output_type": "stream",
     "text": [
      "(8585, 1016, 1)\n",
      "(8585, 1)\n"
     ]
    }
   ],
   "source": [
    "# 입력 데이터에 채널 차원 추가 (Conv1D를 위해)\n",
    "X_train = np.expand_dims(train, axis=-1) # 채널 차원 추가\n",
    "print(X_train.shape)\n",
    "# Y_train = np.expand_dims(label, axis=-1)\n",
    "print(label.shape)"
   ]
  },
  {
   "cell_type": "code",
   "execution_count": 24,
   "metadata": {},
   "outputs": [
    {
     "name": "stdout",
     "output_type": "stream",
     "text": [
      "(8585, 4)\n"
     ]
    }
   ],
   "source": [
    "Y_train = to_categorical(label, num_classes=4)\n",
    "print(Y_train.shape)"
   ]
  },
  {
   "cell_type": "code",
   "execution_count": 25,
   "metadata": {},
   "outputs": [
    {
     "name": "stdout",
     "output_type": "stream",
     "text": [
      "(1717, 1016, 1)\n",
      "(1717, 4)\n"
     ]
    }
   ],
   "source": [
    "X_test = np.expand_dims(X_test, axis=-1)\n",
    "print(X_test.shape)\n",
    "Y_test = to_categorical(Y_test, num_classes=4)\n",
    "print(Y_test.shape)"
   ]
  },
  {
   "cell_type": "code",
   "execution_count": 26,
   "metadata": {},
   "outputs": [
    {
     "name": "stderr",
     "output_type": "stream",
     "text": [
      "c:\\Users\\jkwor\\AppData\\Local\\Programs\\Python\\Python311\\Lib\\site-packages\\keras\\src\\layers\\convolutional\\base_conv.py:107: UserWarning: Do not pass an `input_shape`/`input_dim` argument to a layer. When using Sequential models, prefer using an `Input(shape)` object as the first layer in the model instead.\n",
      "  super().__init__(activity_regularizer=activity_regularizer, **kwargs)\n"
     ]
    },
    {
     "data": {
      "text/html": [
       "<pre style=\"white-space:pre;overflow-x:auto;line-height:normal;font-family:Menlo,'DejaVu Sans Mono',consolas,'Courier New',monospace\"><span style=\"font-weight: bold\">Model: \"sequential_2\"</span>\n",
       "</pre>\n"
      ],
      "text/plain": [
       "\u001b[1mModel: \"sequential_2\"\u001b[0m\n"
      ]
     },
     "metadata": {},
     "output_type": "display_data"
    },
    {
     "data": {
      "text/html": [
       "<pre style=\"white-space:pre;overflow-x:auto;line-height:normal;font-family:Menlo,'DejaVu Sans Mono',consolas,'Courier New',monospace\">┏━━━━━━━━━━━━━━━━━━━━━━━━━━━━━━━━━┳━━━━━━━━━━━━━━━━━━━━━━━━┳━━━━━━━━━━━━━━━┓\n",
       "┃<span style=\"font-weight: bold\"> Layer (type)                    </span>┃<span style=\"font-weight: bold\"> Output Shape           </span>┃<span style=\"font-weight: bold\">       Param # </span>┃\n",
       "┡━━━━━━━━━━━━━━━━━━━━━━━━━━━━━━━━━╇━━━━━━━━━━━━━━━━━━━━━━━━╇━━━━━━━━━━━━━━━┩\n",
       "│ conv1d_4 (<span style=\"color: #0087ff; text-decoration-color: #0087ff\">Conv1D</span>)               │ (<span style=\"color: #00d7ff; text-decoration-color: #00d7ff\">None</span>, <span style=\"color: #00af00; text-decoration-color: #00af00\">1013</span>, <span style=\"color: #00af00; text-decoration-color: #00af00\">10</span>)       │            <span style=\"color: #00af00; text-decoration-color: #00af00\">50</span> │\n",
       "├─────────────────────────────────┼────────────────────────┼───────────────┤\n",
       "│ conv1d_5 (<span style=\"color: #0087ff; text-decoration-color: #0087ff\">Conv1D</span>)               │ (<span style=\"color: #00d7ff; text-decoration-color: #00d7ff\">None</span>, <span style=\"color: #00af00; text-decoration-color: #00af00\">1009</span>, <span style=\"color: #00af00; text-decoration-color: #00af00\">20</span>)       │         <span style=\"color: #00af00; text-decoration-color: #00af00\">1,020</span> │\n",
       "├─────────────────────────────────┼────────────────────────┼───────────────┤\n",
       "│ max_pooling1d_2 (<span style=\"color: #0087ff; text-decoration-color: #0087ff\">MaxPooling1D</span>)  │ (<span style=\"color: #00d7ff; text-decoration-color: #00d7ff\">None</span>, <span style=\"color: #00af00; text-decoration-color: #00af00\">504</span>, <span style=\"color: #00af00; text-decoration-color: #00af00\">20</span>)        │             <span style=\"color: #00af00; text-decoration-color: #00af00\">0</span> │\n",
       "├─────────────────────────────────┼────────────────────────┼───────────────┤\n",
       "│ flatten_2 (<span style=\"color: #0087ff; text-decoration-color: #0087ff\">Flatten</span>)             │ (<span style=\"color: #00d7ff; text-decoration-color: #00d7ff\">None</span>, <span style=\"color: #00af00; text-decoration-color: #00af00\">10080</span>)          │             <span style=\"color: #00af00; text-decoration-color: #00af00\">0</span> │\n",
       "├─────────────────────────────────┼────────────────────────┼───────────────┤\n",
       "│ dense_2 (<span style=\"color: #0087ff; text-decoration-color: #0087ff\">Dense</span>)                 │ (<span style=\"color: #00d7ff; text-decoration-color: #00d7ff\">None</span>, <span style=\"color: #00af00; text-decoration-color: #00af00\">4</span>)              │        <span style=\"color: #00af00; text-decoration-color: #00af00\">40,324</span> │\n",
       "└─────────────────────────────────┴────────────────────────┴───────────────┘\n",
       "</pre>\n"
      ],
      "text/plain": [
       "┏━━━━━━━━━━━━━━━━━━━━━━━━━━━━━━━━━┳━━━━━━━━━━━━━━━━━━━━━━━━┳━━━━━━━━━━━━━━━┓\n",
       "┃\u001b[1m \u001b[0m\u001b[1mLayer (type)                   \u001b[0m\u001b[1m \u001b[0m┃\u001b[1m \u001b[0m\u001b[1mOutput Shape          \u001b[0m\u001b[1m \u001b[0m┃\u001b[1m \u001b[0m\u001b[1m      Param #\u001b[0m\u001b[1m \u001b[0m┃\n",
       "┡━━━━━━━━━━━━━━━━━━━━━━━━━━━━━━━━━╇━━━━━━━━━━━━━━━━━━━━━━━━╇━━━━━━━━━━━━━━━┩\n",
       "│ conv1d_4 (\u001b[38;5;33mConv1D\u001b[0m)               │ (\u001b[38;5;45mNone\u001b[0m, \u001b[38;5;34m1013\u001b[0m, \u001b[38;5;34m10\u001b[0m)       │            \u001b[38;5;34m50\u001b[0m │\n",
       "├─────────────────────────────────┼────────────────────────┼───────────────┤\n",
       "│ conv1d_5 (\u001b[38;5;33mConv1D\u001b[0m)               │ (\u001b[38;5;45mNone\u001b[0m, \u001b[38;5;34m1009\u001b[0m, \u001b[38;5;34m20\u001b[0m)       │         \u001b[38;5;34m1,020\u001b[0m │\n",
       "├─────────────────────────────────┼────────────────────────┼───────────────┤\n",
       "│ max_pooling1d_2 (\u001b[38;5;33mMaxPooling1D\u001b[0m)  │ (\u001b[38;5;45mNone\u001b[0m, \u001b[38;5;34m504\u001b[0m, \u001b[38;5;34m20\u001b[0m)        │             \u001b[38;5;34m0\u001b[0m │\n",
       "├─────────────────────────────────┼────────────────────────┼───────────────┤\n",
       "│ flatten_2 (\u001b[38;5;33mFlatten\u001b[0m)             │ (\u001b[38;5;45mNone\u001b[0m, \u001b[38;5;34m10080\u001b[0m)          │             \u001b[38;5;34m0\u001b[0m │\n",
       "├─────────────────────────────────┼────────────────────────┼───────────────┤\n",
       "│ dense_2 (\u001b[38;5;33mDense\u001b[0m)                 │ (\u001b[38;5;45mNone\u001b[0m, \u001b[38;5;34m4\u001b[0m)              │        \u001b[38;5;34m40,324\u001b[0m │\n",
       "└─────────────────────────────────┴────────────────────────┴───────────────┘\n"
      ]
     },
     "metadata": {},
     "output_type": "display_data"
    },
    {
     "data": {
      "text/html": [
       "<pre style=\"white-space:pre;overflow-x:auto;line-height:normal;font-family:Menlo,'DejaVu Sans Mono',consolas,'Courier New',monospace\"><span style=\"font-weight: bold\"> Total params: </span><span style=\"color: #00af00; text-decoration-color: #00af00\">41,394</span> (161.70 KB)\n",
       "</pre>\n"
      ],
      "text/plain": [
       "\u001b[1m Total params: \u001b[0m\u001b[38;5;34m41,394\u001b[0m (161.70 KB)\n"
      ]
     },
     "metadata": {},
     "output_type": "display_data"
    },
    {
     "data": {
      "text/html": [
       "<pre style=\"white-space:pre;overflow-x:auto;line-height:normal;font-family:Menlo,'DejaVu Sans Mono',consolas,'Courier New',monospace\"><span style=\"font-weight: bold\"> Trainable params: </span><span style=\"color: #00af00; text-decoration-color: #00af00\">41,394</span> (161.70 KB)\n",
       "</pre>\n"
      ],
      "text/plain": [
       "\u001b[1m Trainable params: \u001b[0m\u001b[38;5;34m41,394\u001b[0m (161.70 KB)\n"
      ]
     },
     "metadata": {},
     "output_type": "display_data"
    },
    {
     "data": {
      "text/html": [
       "<pre style=\"white-space:pre;overflow-x:auto;line-height:normal;font-family:Menlo,'DejaVu Sans Mono',consolas,'Courier New',monospace\"><span style=\"font-weight: bold\"> Non-trainable params: </span><span style=\"color: #00af00; text-decoration-color: #00af00\">0</span> (0.00 B)\n",
       "</pre>\n"
      ],
      "text/plain": [
       "\u001b[1m Non-trainable params: \u001b[0m\u001b[38;5;34m0\u001b[0m (0.00 B)\n"
      ]
     },
     "metadata": {},
     "output_type": "display_data"
    }
   ],
   "source": [
    "model = models.Sequential()\n",
    "model.add(layers.Conv1D(10, 4, activation='relu', input_shape=(1016,1)))\n",
    "model.add(layers.Conv1D(20, 5, activation='relu'))\n",
    "model.add(layers.MaxPool1D(2, 2))\n",
    "model.add(layers.Flatten())\n",
    "model.add(layers.Dense(4, activation='softmax')) # 이진 분류를 위해 sigmoid사용함\n",
    "model.summary()\n",
    "model.compile(optimizer='adam', loss='categorical_crossentropy', metrics=['accuracy'])"
   ]
  },
  {
   "cell_type": "code",
   "execution_count": 27,
   "metadata": {},
   "outputs": [
    {
     "name": "stdout",
     "output_type": "stream",
     "text": [
      "Epoch 1/20\n",
      "\u001b[1m269/269\u001b[0m \u001b[32m━━━━━━━━━━━━━━━━━━━━\u001b[0m\u001b[37m\u001b[0m \u001b[1m2s\u001b[0m 4ms/step - accuracy: 0.6783 - loss: 0.6458 - val_accuracy: 0.9208 - val_loss: 0.3511\n",
      "Epoch 2/20\n",
      "\u001b[1m269/269\u001b[0m \u001b[32m━━━━━━━━━━━━━━━━━━━━\u001b[0m\u001b[37m\u001b[0m \u001b[1m1s\u001b[0m 3ms/step - accuracy: 0.9123 - loss: 0.2751 - val_accuracy: 0.9313 - val_loss: 0.2944\n",
      "Epoch 3/20\n",
      "\u001b[1m269/269\u001b[0m \u001b[32m━━━━━━━━━━━━━━━━━━━━\u001b[0m\u001b[37m\u001b[0m \u001b[1m1s\u001b[0m 3ms/step - accuracy: 0.9421 - loss: 0.2151 - val_accuracy: 0.9645 - val_loss: 0.2345\n",
      "Epoch 4/20\n",
      "\u001b[1m269/269\u001b[0m \u001b[32m━━━━━━━━━━━━━━━━━━━━\u001b[0m\u001b[37m\u001b[0m \u001b[1m1s\u001b[0m 3ms/step - accuracy: 0.9539 - loss: 0.1915 - val_accuracy: 0.9691 - val_loss: 0.2045\n",
      "Epoch 5/20\n",
      "\u001b[1m269/269\u001b[0m \u001b[32m━━━━━━━━━━━━━━━━━━━━\u001b[0m\u001b[37m\u001b[0m \u001b[1m1s\u001b[0m 3ms/step - accuracy: 0.9582 - loss: 0.1520 - val_accuracy: 0.9621 - val_loss: 0.1484\n",
      "Epoch 6/20\n",
      "\u001b[1m269/269\u001b[0m \u001b[32m━━━━━━━━━━━━━━━━━━━━\u001b[0m\u001b[37m\u001b[0m \u001b[1m1s\u001b[0m 3ms/step - accuracy: 0.9494 - loss: 0.2092 - val_accuracy: 0.9662 - val_loss: 0.2500\n",
      "Epoch 7/20\n",
      "\u001b[1m269/269\u001b[0m \u001b[32m━━━━━━━━━━━━━━━━━━━━\u001b[0m\u001b[37m\u001b[0m \u001b[1m1s\u001b[0m 3ms/step - accuracy: 0.9679 - loss: 0.1137 - val_accuracy: 0.9377 - val_loss: 0.5106\n",
      "Epoch 8/20\n",
      "\u001b[1m269/269\u001b[0m \u001b[32m━━━━━━━━━━━━━━━━━━━━\u001b[0m\u001b[37m\u001b[0m \u001b[1m1s\u001b[0m 3ms/step - accuracy: 0.9607 - loss: 0.2033 - val_accuracy: 0.9726 - val_loss: 0.1180\n",
      "Epoch 9/20\n",
      "\u001b[1m269/269\u001b[0m \u001b[32m━━━━━━━━━━━━━━━━━━━━\u001b[0m\u001b[37m\u001b[0m \u001b[1m1s\u001b[0m 3ms/step - accuracy: 0.9682 - loss: 0.1106 - val_accuracy: 0.9744 - val_loss: 0.1149\n",
      "Epoch 10/20\n",
      "\u001b[1m269/269\u001b[0m \u001b[32m━━━━━━━━━━━━━━━━━━━━\u001b[0m\u001b[37m\u001b[0m \u001b[1m1s\u001b[0m 3ms/step - accuracy: 0.9677 - loss: 0.1082 - val_accuracy: 0.9691 - val_loss: 0.1342\n",
      "Epoch 11/20\n",
      "\u001b[1m269/269\u001b[0m \u001b[32m━━━━━━━━━━━━━━━━━━━━\u001b[0m\u001b[37m\u001b[0m \u001b[1m1s\u001b[0m 3ms/step - accuracy: 0.9709 - loss: 0.0977 - val_accuracy: 0.9808 - val_loss: 0.0875\n",
      "Epoch 12/20\n",
      "\u001b[1m269/269\u001b[0m \u001b[32m━━━━━━━━━━━━━━━━━━━━\u001b[0m\u001b[37m\u001b[0m \u001b[1m1s\u001b[0m 3ms/step - accuracy: 0.9700 - loss: 0.0961 - val_accuracy: 0.9732 - val_loss: 0.0959\n",
      "Epoch 13/20\n",
      "\u001b[1m269/269\u001b[0m \u001b[32m━━━━━━━━━━━━━━━━━━━━\u001b[0m\u001b[37m\u001b[0m \u001b[1m1s\u001b[0m 3ms/step - accuracy: 0.9698 - loss: 0.0971 - val_accuracy: 0.9790 - val_loss: 0.1388\n",
      "Epoch 14/20\n",
      "\u001b[1m269/269\u001b[0m \u001b[32m━━━━━━━━━━━━━━━━━━━━\u001b[0m\u001b[37m\u001b[0m \u001b[1m1s\u001b[0m 3ms/step - accuracy: 0.9712 - loss: 0.1172 - val_accuracy: 0.9790 - val_loss: 0.1784\n",
      "Epoch 15/20\n",
      "\u001b[1m269/269\u001b[0m \u001b[32m━━━━━━━━━━━━━━━━━━━━\u001b[0m\u001b[37m\u001b[0m \u001b[1m1s\u001b[0m 3ms/step - accuracy: 0.9737 - loss: 0.1013 - val_accuracy: 0.9715 - val_loss: 0.0932\n",
      "Epoch 16/20\n",
      "\u001b[1m269/269\u001b[0m \u001b[32m━━━━━━━━━━━━━━━━━━━━\u001b[0m\u001b[37m\u001b[0m \u001b[1m1s\u001b[0m 3ms/step - accuracy: 0.9708 - loss: 0.0831 - val_accuracy: 0.9814 - val_loss: 0.0740\n",
      "Epoch 17/20\n",
      "\u001b[1m269/269\u001b[0m \u001b[32m━━━━━━━━━━━━━━━━━━━━\u001b[0m\u001b[37m\u001b[0m \u001b[1m1s\u001b[0m 4ms/step - accuracy: 0.9780 - loss: 0.0725 - val_accuracy: 0.9785 - val_loss: 0.0814\n",
      "Epoch 18/20\n",
      "\u001b[1m269/269\u001b[0m \u001b[32m━━━━━━━━━━━━━━━━━━━━\u001b[0m\u001b[37m\u001b[0m \u001b[1m1s\u001b[0m 4ms/step - accuracy: 0.9740 - loss: 0.0890 - val_accuracy: 0.9639 - val_loss: 0.1127\n",
      "Epoch 19/20\n",
      "\u001b[1m269/269\u001b[0m \u001b[32m━━━━━━━━━━━━━━━━━━━━\u001b[0m\u001b[37m\u001b[0m \u001b[1m1s\u001b[0m 3ms/step - accuracy: 0.9742 - loss: 0.0727 - val_accuracy: 0.9819 - val_loss: 0.0732\n",
      "Epoch 20/20\n",
      "\u001b[1m269/269\u001b[0m \u001b[32m━━━━━━━━━━━━━━━━━━━━\u001b[0m\u001b[37m\u001b[0m \u001b[1m1s\u001b[0m 4ms/step - accuracy: 0.9753 - loss: 0.0778 - val_accuracy: 0.9662 - val_loss: 0.0868\n"
     ]
    }
   ],
   "source": [
    "history = model.fit(X_train, Y_train, epochs=20, validation_data=(X_test, Y_test))"
   ]
  },
  {
   "cell_type": "code",
   "execution_count": null,
   "metadata": {},
   "outputs": [],
   "source": []
  }
 ],
 "metadata": {
  "kernelspec": {
   "display_name": "Python 3",
   "language": "python",
   "name": "python3"
  },
  "language_info": {
   "codemirror_mode": {
    "name": "ipython",
    "version": 3
   },
   "file_extension": ".py",
   "mimetype": "text/x-python",
   "name": "python",
   "nbconvert_exporter": "python",
   "pygments_lexer": "ipython3",
   "version": "3.11.9"
  }
 },
 "nbformat": 4,
 "nbformat_minor": 4
}
